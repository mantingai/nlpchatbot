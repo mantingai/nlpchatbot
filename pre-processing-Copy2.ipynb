{
 "cells": [
  {
   "cell_type": "markdown",
   "metadata": {},
   "source": [
    "<div style=\"display:fill;\n",
    "            border-radius:15px;\n",
    "            background-color:skyblue;\n",
    "            font-size:210%;\n",
    "            letter-spacing:0.5px;\n",
    "            padding:20px;\n",
    "            color:white;\n",
    "            border-style: solid;\n",
    "            border-color: white;\n",
    "            text-align:center;\">\n",
    "<b>\n",
    "    Medical Chatbot / Virtual Assistant 📝"
   ]
  },
  {
   "cell_type": "markdown",
   "metadata": {},
   "source": [
    "## <font color= maroon> **Purpose**:\n",
    "\n",
    "The purpose of developing this virtual assitant is to leverage pre-processed and classified medical text data to create an intelligent system capable of providing specialized responses and assistance based on the medical specialty of the input text. <br><br>This system aims to enhance the accessibility of accurate and specialized medical information, support healthcare professionals in retrieeving relevant medical knowledge, and contribute to medical education training."
   ]
  },
  {
   "cell_type": "markdown",
   "metadata": {},
   "source": [
    "## <font color= maroon>**Use Cases:**\n",
    "\n",
    "1. **Healthcare Professional Assistance**:<br> It can assist healthcare professionals in quickly acessing specialty-specific information, guilines, and best practices, thereby supporting clinical decision-making and enhancing patient care.<br><br>\n",
    "\n",
    "2. **Medical Education and Training**: <br>The chatbot can serve as a valueble learning tool for medical students, residents, and the healthcare professionals by providing specialty-specific knowledge case studies, and educational materials.<br><br>\n",
    "\n",
    "3. **Information Retrieval**: <br>It can facilitate the efficient retrieval of medical literature, research papers, and clinical trials specific to different medical specialties, aiding in evidence-based practice and research.<br><br>"
   ]
  },
  {
   "cell_type": "markdown",
   "metadata": {},
   "source": [
    "<div style=\"font-family: 'Arial', sans-serif; line-height: 1.6;\">\n",
    "    <h2 style=\"color: maroon; text-align: center;\">Contents</h2>\n",
    "    <h4><a href=\"#1.0\" style=\"text-decoration: underline;\">1.0 Data Scanning</a></h4>\n",
    "<!--     <ul>\n",
    "        <li><a href=\"#1.1\" style=\"text-decoration: underline;\">1.1 Import Functions/Load Dataset</a></li>\n",
    "        <li><a href=\"#1.2\" style=\"text-decoration: underline;\">1.2 Tidy/Explore Dataset</a></li>\n",
    "        <li><a href=\"#1.3\" style=\"text-decoration: underline;\">1.3 Count of each Medical Speciality</a></li>\n",
    "        <li><a href=\"#1.4\" style=\"text-decoration: underline;\">1.4 Cleaning of Dataset</a></li>\n",
    "        <li><a href=\"#1.5\" style=\"text-decoration: underline;\">1.5 Medical Specialty Word Count</a></li>\n",
    "        <li><a href=\"#1.6\" style=\"text-decoration: underline;\">1.6 Text Complextiy/Readability</a></li>\n",
    "    </ul> -->\n",
    "    <h4><a href=\"#2.0\" style=\"text-decoration: underline;\">2.0 Exploration Data Analysis (EDA)</a></h4>\n",
    "<!--     <ul>\n",
    "        <li><a href=\"#2.1\" style=\"text-decoration: underline;\">2.1 Lower Case Text</a></li>\n",
    "        <li><a href=\"#2.2\" style=\"text-decoration: underline;\">2.2 Remove Punctuation/Numbers</a></li>\n",
    "        <li><a href=\"#2.3\" style=\"text-decoration: underline;\">2.3 Tokenization</a></li>\n",
    "        <li><a href=\"#2.4\" style=\"text-decoration: underline;\">2.4 Remove Stopwords</a></li>\n",
    "        <li><a href=\"#2.5\" style=\"text-decoration: underline;\">2.5 Lemmatization</a></li>\n",
    "        <li><a href=\"#2.6\" style=\"text-decoration: underline;\">2.6 Word Difference</a></li>\n",
    "    </ul> -->\n",
    "    <h4><a href=\"#3.0\" style=\"text-decoration: underline;\">3.0 General Cleaning</a></h4>\n",
    "    <ul>\n",
    "        <li><a href=\"#3.1\" style=\"text-decoration: underline;\">3.1 Feature Extraction</a></li>\n",
    "        <li><a href=\"#3.2\" style=\"text-decoration: underline;\">3.2 Remove Missing Values</a></li>\n",
    "    </ul>\n",
    "    <h4><a href=\"#4.0\" style=\"text-decoration: underline;\">4.0 Deal with Imbalance Data</a></h4>\n",
    "    <ul>\n",
    "        <li><a href=\"#4.1\" style=\"text-decoration: underline;\">4.1 Downsampling</a></li>\n",
    "        <li><a href=\"#4.2\" style=\"text-decoration: underline;\">4.2 Data Augmentation</a></li>\n",
    "<!--         <li><a href=\"#4.3\" style=\"text-decoration: underline;\">4.3 Algorithm Selection/Evaluation</a></li>\n",
    "        <li><a href=\"#4.4\" style=\"text-decoration: underline;\">4.4 Model Fine-Tuning/Validation</a></li>\n",
    "        <li><a href=\"#4.5\" style=\"text-decoration: underline;\">4.5 Actual vs Predicted</a></li> -->\n",
    "    </ul>\n",
    "    <h4><a href=\"#5.0\" style=\"text-decoration: underline;\">5.0 Text Normalisation</a></h4>\n",
    "    <ul>\n",
    "        <li><a href=\"#5.1\" style=\"text-decoration: underline;\">5.1 Lower Case</a></li>\n",
    "        <li><a href=\"#5.2\" style=\"text-decoration: underline;\">5.2 Remove Punctuations and Numbers</a></li>\n",
    "        <li><a href=\"#5.3\" style=\"text-decoration: underline;\">5.3 Removing Stop Words</a></li>\n",
    "        <li><a href=\"#5.4\" style=\"text-decoration: underline;\">5.4 Tokenise</a></li>\n",
    "        <li><a href=\"#5.5\" style=\"text-decoration: underline;\">5.5 Lemmatize</a></li>\n",
    "        <li><a href=\"#565\" style=\"text-decoration: underline;\">5.6 All-in-One</a></li>\n",
    "    </ul>\n",
    "    <h4><a href=\"#6.0\" style=\"text-decoration: underline;\">6.0 Train Test Spilt</a></h4>\n",
    "    <h4><a href=\"#7.0\" style=\"text-decoration: underline;\">7.0 text Representation</a></h4>\n",
    "    <ul>\n",
    "        <li><a href=\"#7.1\" style=\"text-decoration: underline;\">7.1 Feature Extraction</a></li>\n",
    "        <li><a href=\"#7.2\" style=\"text-decoration: underline;\">7.2 Remove Missing Values</a></li>\n",
    "    </ul>\n",
    "</div>"
   ]
  },
  {
   "cell_type": "markdown",
   "metadata": {},
   "source": [
    "## <font color= grey> Data Scanning<a class=\"anchor\" id=\"1.0\"></a>"
   ]
  },
  {
   "cell_type": "code",
   "execution_count": 13,
   "metadata": {
    "colab": {
     "base_uri": "https://localhost:8080/"
    },
    "executionInfo": {
     "elapsed": 454,
     "status": "ok",
     "timestamp": 1702215838213,
     "user": {
      "displayName": "Liew Man Ting",
      "userId": "07590673243961657612"
     },
     "user_tz": -480
    },
    "id": "sZPePzkn4fkq",
    "outputId": "7d4bb1e8-e4e6-4894-e5ea-f75f9b1af316"
   },
   "outputs": [
    {
     "name": "stderr",
     "output_type": "stream",
     "text": [
      "[nltk_data] Downloading package wordnet to\n",
      "[nltk_data]     C:\\Users\\manti\\AppData\\Roaming\\nltk_data...\n",
      "[nltk_data]   Package wordnet is already up-to-date!\n",
      "[nltk_data] Downloading package stopwords to\n",
      "[nltk_data]     C:\\Users\\manti\\AppData\\Roaming\\nltk_data...\n",
      "[nltk_data]   Package stopwords is already up-to-date!\n"
     ]
    }
   ],
   "source": [
    "import pandas as pd\n",
    "import numpy as np\n",
    "import string\n",
    "import re\n",
    "\n",
    "import matplotlib\n",
    "import matplotlib.pyplot as plt\n",
    "\n",
    "import nltk\n",
    "nltk.download('wordnet')\n",
    "nltk.download('stopwords')\n",
    "from nltk.corpus import stopwords\n",
    "from nltk.tokenize import WhitespaceTokenizer\n",
    "from nltk.stem import WordNetLemmatizer\n",
    "from wordcloud import WordCloud\n",
    "from sklearn import preprocessing\n",
    "from sklearn.feature_extraction.text import CountVectorizer\n",
    "from sklearn.preprocessing import LabelEncoder\n",
    "from imblearn.over_sampling import SMOTE\n",
    "import scipy.sparse as sp\n",
    "\n",
    "from sklearn.metrics import precision_recall_fscore_support as score\n",
    "from sklearn.model_selection import train_test_split\n",
    "from sklearn.linear_model import LogisticRegression\n",
    "from sklearn.naive_bayes import MultinomialNB\n",
    "from sklearn.svm import SVC\n",
    "import xgboost as xgb\n",
    "from sklearn.tree import DecisionTreeClassifier\n",
    "from sklearn.ensemble import RandomForestClassifier\n",
    "from sklearn.metrics import classification_report\n",
    "# from google.colab.data_table import DataTable\n",
    "from sklearn.model_selection import GridSearchCV "
   ]
  },
  {
   "cell_type": "code",
   "execution_count": 14,
   "metadata": {
    "colab": {
     "base_uri": "https://localhost:8080/",
     "height": 206
    },
    "executionInfo": {
     "elapsed": 483,
     "status": "ok",
     "timestamp": 1702214182963,
     "user": {
      "displayName": "Liew Man Ting",
      "userId": "07590673243961657612"
     },
     "user_tz": -480
    },
    "id": "9MxrfkzV4fks",
    "outputId": "8f4c57bc-1068-42f9-a1f4-7724e12b36f1"
   },
   "outputs": [
    {
     "data": {
      "text/html": [
       "<div>\n",
       "<style scoped>\n",
       "    .dataframe tbody tr th:only-of-type {\n",
       "        vertical-align: middle;\n",
       "    }\n",
       "\n",
       "    .dataframe tbody tr th {\n",
       "        vertical-align: top;\n",
       "    }\n",
       "\n",
       "    .dataframe thead th {\n",
       "        text-align: right;\n",
       "    }\n",
       "</style>\n",
       "<table border=\"1\" class=\"dataframe\">\n",
       "  <thead>\n",
       "    <tr style=\"text-align: right;\">\n",
       "      <th></th>\n",
       "      <th>description</th>\n",
       "      <th>medical_specialty</th>\n",
       "      <th>sample_name</th>\n",
       "      <th>transcription</th>\n",
       "      <th>keywords</th>\n",
       "    </tr>\n",
       "  </thead>\n",
       "  <tbody>\n",
       "    <tr>\n",
       "      <th>0</th>\n",
       "      <td>A 23-year-old white female presents with comp...</td>\n",
       "      <td>Allergy / Immunology</td>\n",
       "      <td>Allergic Rhinitis</td>\n",
       "      <td>SUBJECTIVE:,  This 23-year-old white female pr...</td>\n",
       "      <td>allergy / immunology, allergic rhinitis, aller...</td>\n",
       "    </tr>\n",
       "    <tr>\n",
       "      <th>1</th>\n",
       "      <td>Consult for laparoscopic gastric bypass.</td>\n",
       "      <td>Bariatrics</td>\n",
       "      <td>Laparoscopic Gastric Bypass Consult - 2</td>\n",
       "      <td>PAST MEDICAL HISTORY:, He has difficulty climb...</td>\n",
       "      <td>bariatrics, laparoscopic gastric bypass, weigh...</td>\n",
       "    </tr>\n",
       "    <tr>\n",
       "      <th>2</th>\n",
       "      <td>Consult for laparoscopic gastric bypass.</td>\n",
       "      <td>Bariatrics</td>\n",
       "      <td>Laparoscopic Gastric Bypass Consult - 1</td>\n",
       "      <td>HISTORY OF PRESENT ILLNESS: , I have seen ABC ...</td>\n",
       "      <td>bariatrics, laparoscopic gastric bypass, heart...</td>\n",
       "    </tr>\n",
       "    <tr>\n",
       "      <th>3</th>\n",
       "      <td>2-D M-Mode. Doppler.</td>\n",
       "      <td>Cardiovascular / Pulmonary</td>\n",
       "      <td>2-D Echocardiogram - 1</td>\n",
       "      <td>2-D M-MODE: , ,1.  Left atrial enlargement wit...</td>\n",
       "      <td>cardiovascular / pulmonary, 2-d m-mode, dopple...</td>\n",
       "    </tr>\n",
       "    <tr>\n",
       "      <th>4</th>\n",
       "      <td>2-D Echocardiogram</td>\n",
       "      <td>Cardiovascular / Pulmonary</td>\n",
       "      <td>2-D Echocardiogram - 2</td>\n",
       "      <td>1.  The left ventricular cavity size and wall ...</td>\n",
       "      <td>cardiovascular / pulmonary, 2-d, doppler, echo...</td>\n",
       "    </tr>\n",
       "  </tbody>\n",
       "</table>\n",
       "</div>"
      ],
      "text/plain": [
       "                                         description  \\\n",
       "0   A 23-year-old white female presents with comp...   \n",
       "1           Consult for laparoscopic gastric bypass.   \n",
       "2           Consult for laparoscopic gastric bypass.   \n",
       "3                             2-D M-Mode. Doppler.     \n",
       "4                                 2-D Echocardiogram   \n",
       "\n",
       "             medical_specialty                                sample_name  \\\n",
       "0         Allergy / Immunology                         Allergic Rhinitis    \n",
       "1                   Bariatrics   Laparoscopic Gastric Bypass Consult - 2    \n",
       "2                   Bariatrics   Laparoscopic Gastric Bypass Consult - 1    \n",
       "3   Cardiovascular / Pulmonary                    2-D Echocardiogram - 1    \n",
       "4   Cardiovascular / Pulmonary                    2-D Echocardiogram - 2    \n",
       "\n",
       "                                       transcription  \\\n",
       "0  SUBJECTIVE:,  This 23-year-old white female pr...   \n",
       "1  PAST MEDICAL HISTORY:, He has difficulty climb...   \n",
       "2  HISTORY OF PRESENT ILLNESS: , I have seen ABC ...   \n",
       "3  2-D M-MODE: , ,1.  Left atrial enlargement wit...   \n",
       "4  1.  The left ventricular cavity size and wall ...   \n",
       "\n",
       "                                            keywords  \n",
       "0  allergy / immunology, allergic rhinitis, aller...  \n",
       "1  bariatrics, laparoscopic gastric bypass, weigh...  \n",
       "2  bariatrics, laparoscopic gastric bypass, heart...  \n",
       "3  cardiovascular / pulmonary, 2-d m-mode, dopple...  \n",
       "4  cardiovascular / pulmonary, 2-d, doppler, echo...  "
      ]
     },
     "execution_count": 14,
     "metadata": {},
     "output_type": "execute_result"
    }
   ],
   "source": [
    "# Read the CSV file and set the first column as the index\n",
    "df = pd.read_csv(\"mtsamples.csv\", index_col=0)\n",
    "\n",
    "# Reset the index to remove the first column\n",
    "df.reset_index(drop=True, inplace=True)\n",
    "\n",
    "df.head()"
   ]
  },
  {
   "cell_type": "code",
   "execution_count": 15,
   "metadata": {
    "colab": {
     "base_uri": "https://localhost:8080/"
    },
    "executionInfo": {
     "elapsed": 13,
     "status": "ok",
     "timestamp": 1702214182964,
     "user": {
      "displayName": "Liew Man Ting",
      "userId": "07590673243961657612"
     },
     "user_tz": -480
    },
    "id": "qfcVtDTQ4fkt",
    "outputId": "1f4d9e7d-4af1-4269-c6a3-3187bdeb0333",
    "scrolled": true
   },
   "outputs": [
    {
     "name": "stdout",
     "output_type": "stream",
     "text": [
      "<class 'pandas.core.frame.DataFrame'>\n",
      "RangeIndex: 4999 entries, 0 to 4998\n",
      "Data columns (total 5 columns):\n",
      " #   Column             Non-Null Count  Dtype \n",
      "---  ------             --------------  ----- \n",
      " 0   description        4999 non-null   object\n",
      " 1   medical_specialty  4999 non-null   object\n",
      " 2   sample_name        4999 non-null   object\n",
      " 3   transcription      4966 non-null   object\n",
      " 4   keywords           3931 non-null   object\n",
      "dtypes: object(5)\n",
      "memory usage: 195.4+ KB\n"
     ]
    }
   ],
   "source": [
    "df.info()"
   ]
  },
  {
   "cell_type": "markdown",
   "metadata": {},
   "source": [
    "    "
   ]
  },
  {
   "cell_type": "markdown",
   "metadata": {},
   "source": [
    "## <font color= grey> Exploration Data Analysis (EDA) <a class=\"anchor\" id=\"2.0\"></a>"
   ]
  },
  {
   "cell_type": "markdown",
   "metadata": {},
   "source": [
    "Finding out what are some sample names, and we noticed that there are multiple repeated by a '-' to differenciate."
   ]
  },
  {
   "cell_type": "code",
   "execution_count": 16,
   "metadata": {
    "colab": {
     "base_uri": "https://localhost:8080/"
    },
    "executionInfo": {
     "elapsed": 12,
     "status": "ok",
     "timestamp": 1702214182964,
     "user": {
      "displayName": "Liew Man Ting",
      "userId": "07590673243961657612"
     },
     "user_tz": -480
    },
    "id": "jSGC87H04fku",
    "outputId": "6375f422-f6f8-47db-a9b8-a0098fe39560"
   },
   "outputs": [
    {
     "name": "stdout",
     "output_type": "stream",
     "text": [
      "sample_name\n",
      " Lumbar Discogram                           5\n",
      " Abdominal Pain - Consult                   4\n",
      " Hypergranulation - Consult                 4\n",
      " Chest Pain & Respiratory Insufficiency     4\n",
      " Normal Newborn H&P Template                4\n",
      "                                           ..\n",
      " Port-A-Cath Insertion - 4                  1\n",
      " CT Facial                                  1\n",
      " Chronic Kidney Disease - Followup          1\n",
      " Port-A-Cath Insertion - 3                  1\n",
      " Autopsy - 4                                1\n",
      "Name: count, Length: 2377, dtype: int64\n"
     ]
    }
   ],
   "source": [
    "# check specialty count\n",
    "specialty_counts = df['sample_name'].value_counts()\n",
    "print(specialty_counts)"
   ]
  },
  {
   "cell_type": "code",
   "execution_count": 17,
   "metadata": {
    "colab": {
     "base_uri": "https://localhost:8080/"
    },
    "executionInfo": {
     "elapsed": 8,
     "status": "ok",
     "timestamp": 1702214182964,
     "user": {
      "displayName": "Liew Man Ting",
      "userId": "07590673243961657612"
     },
     "user_tz": -480
    },
    "id": "BQt6ksq34fku",
    "outputId": "0919a130-80f5-412a-f59e-4354a682bffc"
   },
   "outputs": [
    {
     "data": {
      "text/plain": [
       "sample_name\n",
       " Gen Med Consult                                                         108\n",
       " Colonoscopy                                                              46\n",
       " Discharge Summary                                                        40\n",
       " CT Abdomen & Pelvis                                                      36\n",
       " Anterior Cervical Discectomy & Fusion                                    30\n",
       "                                                                        ... \n",
       " Complete PhysicalFemale                                                   1\n",
       " 1yearold ExamH&P                                                          1\n",
       " Trigger Point Injection                                                   1\n",
       " Thoracic epidural steroid injection                                       1\n",
       " Iliac Artery Catheter & Stent Placement, Arteriography, Angioplasty       1\n",
       "Name: count, Length: 1724, dtype: int64"
      ]
     },
     "execution_count": 17,
     "metadata": {},
     "output_type": "execute_result"
    }
   ],
   "source": [
    "# Cleaning up the \"sample_name\" column\n",
    "df['sample_name'] = df['sample_name'].str.replace(r'\\s*-\\s*\\d*', '', regex=True)\n",
    "df['sample_name'].value_counts()\n"
   ]
  },
  {
   "cell_type": "code",
   "execution_count": 18,
   "metadata": {
    "colab": {
     "base_uri": "https://localhost:8080/",
     "height": 709
    },
    "executionInfo": {
     "elapsed": 1937,
     "status": "ok",
     "timestamp": 1702214184896,
     "user": {
      "displayName": "Liew Man Ting",
      "userId": "07590673243961657612"
     },
     "user_tz": -480
    },
    "id": "693vMTlU4fkv",
    "outputId": "bb0776f0-47a4-4dba-a3df-477f6e690f06"
   },
   "outputs": [
    {
     "data": {
      "image/png": "[encoded data removed]",
      "text/plain": [
       "<Figure size 1000x600 with 1 Axes>"
      ]
     },
     "metadata": {},
     "output_type": "display_data"
    }
   ],
   "source": [
    "# Get the count of each unique value in 'medical_specialty'\n",
    "specialty_counts = df['medical_specialty'].value_counts()\n",
    "\n",
    "# Plot the bar graph\n",
    "plt.figure(figsize=(10, 6))\n",
    "specialty_counts.plot(kind='bar')\n",
    "plt.title('Medical Specialty Distribution')\n",
    "plt.xlabel('Medical Specialty')\n",
    "plt.ylabel('Count')\n",
    "plt.xticks(rotation=45, ha='right')  # Rotate x-axis labels for better visibility\n",
    "plt.show()"
   ]
  },
  {
   "cell_type": "code",
   "execution_count": 19,
   "metadata": {
    "colab": {
     "base_uri": "https://localhost:8080/",
     "height": 607
    },
    "executionInfo": {
     "elapsed": 8559,
     "status": "ok",
     "timestamp": 1702214193447,
     "user": {
      "displayName": "Liew Man Ting",
      "userId": "07590673243961657612"
     },
     "user_tz": -480
    },
    "id": "SP536TXz4fkv",
    "outputId": "1ca17b71-9b57-4f5c-8db4-4e33a6f36808",
    "scrolled": false
   },
   "outputs": [
    {
     "data": {
      "image/png": "[encoded data removed]",
      "text/plain": [
       "<Figure size 1000x600 with 1 Axes>"
      ]
     },
     "metadata": {},
     "output_type": "display_data"
    }
   ],
   "source": [
    "# Get the most common medical_speciality\n",
    "most_common_speciality = df['medical_specialty'].mode()[0]\n",
    "\n",
    "# Filter the DataFrame based on the most common medical_speciality\n",
    "filtered_df = df[df['medical_specialty'] == most_common_speciality]\n",
    "\n",
    "# Get the value_counts for the 'sample_name' column in the filtered DataFrame\n",
    "sample_name_counts = filtered_df['sample_name'].value_counts()\n",
    "\n",
    "# Plotting the bar chart\n",
    "plt.figure(figsize=(10, 6))\n",
    "sample_name_counts.plot(kind='bar', color='skyblue')\n",
    "plt.title(f\"Value Counts of 'sample_name' for '{most_common_speciality}' Medical Speciality\")\n",
    "plt.xlabel('Sample Names')\n",
    "plt.ylabel('Count')\n",
    "plt.xticks(rotation=45, ha='right')  # Rotate x-axis labels for better visibility\n",
    "plt.tight_layout()\n",
    "\n",
    "# Show the plot\n",
    "plt.show()"
   ]
  },
  {
   "cell_type": "markdown",
   "metadata": {
    "id": "pR_rPJFnWj5J"
   },
   "source": [
    "## <font color= grey>General Cleaning<a class=\"anchor\" id=\"3.0\"></a>"
   ]
  },
  {
   "cell_type": "markdown",
   "metadata": {},
   "source": [
    ">**Feature Selection**<a class=\"anchor\" id=\"3.1\"></a>"
   ]
  },
  {
   "cell_type": "code",
   "execution_count": 20,
   "metadata": {
    "colab": {
     "base_uri": "https://localhost:8080/"
    },
    "executionInfo": {
     "elapsed": 32,
     "status": "ok",
     "timestamp": 1702214194566,
     "user": {
      "displayName": "Liew Man Ting",
      "userId": "07590673243961657612"
     },
     "user_tz": -480
    },
    "id": "zCzmtegwVIor",
    "outputId": "caf7bde2-90c2-4a91-dd4d-cfbfc9d14cc9"
   },
   "outputs": [
    {
     "name": "stdout",
     "output_type": "stream",
     "text": [
      "<class 'pandas.core.frame.DataFrame'>\n",
      "RangeIndex: 4999 entries, 0 to 4998\n",
      "Data columns (total 2 columns):\n",
      " #   Column             Non-Null Count  Dtype \n",
      "---  ------             --------------  ----- \n",
      " 0   medical_specialty  4999 non-null   object\n",
      " 1   transcription      4966 non-null   object\n",
      "dtypes: object(2)\n",
      "memory usage: 78.2+ KB\n"
     ]
    }
   ],
   "source": [
    " # drop redundant columns\n",
    "df =df.drop(['description','sample_name','keywords'], axis=1)\n",
    "df.info()"
   ]
  },
  {
   "cell_type": "markdown",
   "metadata": {},
   "source": [
    ">**Remove Missing Values**<a class=\"anchor\" id=\"3.2\"></a>"
   ]
  },
  {
   "cell_type": "code",
   "execution_count": 21,
   "metadata": {},
   "outputs": [
    {
     "name": "stdout",
     "output_type": "stream",
     "text": [
      "0\n",
      "33\n"
     ]
    }
   ],
   "source": [
    "print(df['medical_specialty'].isna().sum())\n",
    "print(df['transcription'].isna().sum())"
   ]
  },
  {
   "cell_type": "code",
   "execution_count": 22,
   "metadata": {
    "colab": {
     "base_uri": "https://localhost:8080/"
    },
    "executionInfo": {
     "elapsed": 31,
     "status": "ok",
     "timestamp": 1702214194567,
     "user": {
      "displayName": "Liew Man Ting",
      "userId": "07590673243961657612"
     },
     "user_tz": -480
    },
    "id": "tkB2pfrCWShe",
    "outputId": "845f06fb-fb7d-48db-cd22-204c46a84547",
    "scrolled": false
   },
   "outputs": [
    {
     "name": "stdout",
     "output_type": "stream",
     "text": [
      "<class 'pandas.core.frame.DataFrame'>\n",
      "Index: 4966 entries, 0 to 4998\n",
      "Data columns (total 2 columns):\n",
      " #   Column             Non-Null Count  Dtype \n",
      "---  ------             --------------  ----- \n",
      " 0   medical_specialty  4966 non-null   object\n",
      " 1   transcription      4966 non-null   object\n",
      "dtypes: object(2)\n",
      "memory usage: 116.4+ KB\n"
     ]
    }
   ],
   "source": [
    "# to remove transcription rows that is empty\n",
    "df = df[df['medical_specialty'].notna()]\n",
    "df = df[df['transcription'].notna()]\n",
    "df.info()"
   ]
  },
  {
   "cell_type": "markdown",
   "metadata": {},
   "source": [
    "    "
   ]
  },
  {
   "cell_type": "markdown",
   "metadata": {
    "id": "oYNGLLjSQjBs"
   },
   "source": [
    "## <font color= grey> Deal with Imbalance Data<a class=\"anchor\" id=\"4.0\"></a>"
   ]
  },
  {
   "cell_type": "markdown",
   "metadata": {
    "id": "q8Rr0ndPRbnL"
   },
   "source": [
    "In medical text classification, where the classes may represent different specialties or conditions, having a balanced dataset helps prevent the model from overfitting to the majority class. Overfitting occurs when the model becomes too focused on the abundant class and performs poorly on less frequent classes."
   ]
  },
  {
   "cell_type": "markdown",
   "metadata": {
    "id": "ysB5Y8DvV3_p"
   },
   "source": [
    ">**Remove values that has less than 250**<a class=\"anchor\" id=\"4.1\"></a>"
   ]
  },
  {
   "cell_type": "code",
   "execution_count": 23,
   "metadata": {
    "colab": {
     "base_uri": "https://localhost:8080/",
     "height": 521
    },
    "executionInfo": {
     "elapsed": 1140,
     "status": "ok",
     "timestamp": 1702214194564,
     "user": {
      "displayName": "Liew Man Ting",
      "userId": "07590673243961657612"
     },
     "user_tz": -480
    },
    "id": "KwXXK9OyU2S0",
    "outputId": "17c32928-06cd-45a6-f041-9adff497e936"
   },
   "outputs": [
    {
     "data": {
      "image/png": "[encoded data removed]",
      "text/plain": [
       "<Figure size 1000x600 with 1 Axes>"
      ]
     },
     "metadata": {},
     "output_type": "display_data"
    }
   ],
   "source": [
    "# Set a threshold count for filtering\n",
    "threshold_count = 300\n",
    "\n",
    "# Step 1: Find the counts of each medical specialty\n",
    "medical_specialty_counts = df['medical_specialty'].value_counts()\n",
    "\n",
    "# Step 2: Identify values with counts greater than or equal to the threshold count\n",
    "values_to_keep = medical_specialty_counts[medical_specialty_counts >= threshold_count].index\n",
    "\n",
    "# Step 3: Filter the DataFrame to keep only rows with values greater than or equal to the threshold count\n",
    "df = df[df['medical_specialty'].isin(values_to_keep)]\n",
    "\n",
    "\n",
    "plt.figure(figsize=(10, 6))\n",
    "labels = df['medical_specialty'].value_counts().index\n",
    "sizes = df['medical_specialty'].value_counts().values\n",
    "\n",
    "# Only explode if there is more than one category\n",
    "explode = (0.1,) * len(labels) if len(labels) > 1 else None\n",
    "\n",
    "plt.pie(sizes, explode=explode, labels=labels, autopct='%1.1f%%', startangle=140)\n",
    "\n",
    "plt.title('Medical Specialty Distribution')\n",
    "plt.show()"
   ]
  },
  {
   "cell_type": "markdown",
   "metadata": {
    "id": "7YKo4t8BV_ub"
   },
   "source": [
    "As shown in the pie chart, it is still inbalance.The value \"Surgery\" still has a significant amount compared to others."
   ]
  },
  {
   "cell_type": "markdown",
   "metadata": {
    "id": "_fgPFTxOV-b3"
   },
   "source": [
    ">**Data Augmentation**<a class=\"anchor\" id=\"4.2\"></a>"
   ]
  },
  {
   "cell_type": "markdown",
   "metadata": {},
   "source": [
    "**Data Augmentation** is a technique commonly used in computer vision.\n",
    "In image dataset, It involves creating new images by transforming(rotate, translate, scale, add some noise) the ones in the data set. \n",
    "<br><br>\n",
    "For text, data augmentation can be done by tokenizing document into a sentence, shuffling and rejoining them to generate new texts, or replacing adjectives, verbs etc by its a synonym to generate different text with the same meaning. Any pre-trained word embedding or NLTK’s wordnet can be used to find the synonym of a word."
   ]
  },
  {
   "cell_type": "code",
   "execution_count": 24,
   "metadata": {},
   "outputs": [
    {
     "data": {
      "text/html": [
       "<div>\n",
       "<style scoped>\n",
       "    .dataframe tbody tr th:only-of-type {\n",
       "        vertical-align: middle;\n",
       "    }\n",
       "\n",
       "    .dataframe tbody tr th {\n",
       "        vertical-align: top;\n",
       "    }\n",
       "\n",
       "    .dataframe thead th {\n",
       "        text-align: right;\n",
       "    }\n",
       "</style>\n",
       "<table border=\"1\" class=\"dataframe\">\n",
       "  <thead>\n",
       "    <tr style=\"text-align: right;\">\n",
       "      <th></th>\n",
       "      <th>medical_specialty</th>\n",
       "      <th>transcription</th>\n",
       "    </tr>\n",
       "  </thead>\n",
       "  <tbody>\n",
       "    <tr>\n",
       "      <th>3</th>\n",
       "      <td>Cardiovascular / Pulmonary</td>\n",
       "      <td>2-D M-MODE: , ,1.  Left atrial enlargement wit...</td>\n",
       "    </tr>\n",
       "    <tr>\n",
       "      <th>4</th>\n",
       "      <td>Cardiovascular / Pulmonary</td>\n",
       "      <td>1.  The left ventricular cavity size and wall ...</td>\n",
       "    </tr>\n",
       "    <tr>\n",
       "      <th>7</th>\n",
       "      <td>Cardiovascular / Pulmonary</td>\n",
       "      <td>2-D ECHOCARDIOGRAM,Multiple views of the heart...</td>\n",
       "    </tr>\n",
       "    <tr>\n",
       "      <th>9</th>\n",
       "      <td>Cardiovascular / Pulmonary</td>\n",
       "      <td>DESCRIPTION:,1.  Normal cardiac chambers size....</td>\n",
       "    </tr>\n",
       "    <tr>\n",
       "      <th>11</th>\n",
       "      <td>Cardiovascular / Pulmonary</td>\n",
       "      <td>2-D STUDY,1. Mild aortic stenosis, widely calc...</td>\n",
       "    </tr>\n",
       "  </tbody>\n",
       "</table>\n",
       "</div>"
      ],
      "text/plain": [
       "              medical_specialty  \\\n",
       "3    Cardiovascular / Pulmonary   \n",
       "4    Cardiovascular / Pulmonary   \n",
       "7    Cardiovascular / Pulmonary   \n",
       "9    Cardiovascular / Pulmonary   \n",
       "11   Cardiovascular / Pulmonary   \n",
       "\n",
       "                                        transcription  \n",
       "3   2-D M-MODE: , ,1.  Left atrial enlargement wit...  \n",
       "4   1.  The left ventricular cavity size and wall ...  \n",
       "7   2-D ECHOCARDIOGRAM,Multiple views of the heart...  \n",
       "9   DESCRIPTION:,1.  Normal cardiac chambers size....  \n",
       "11  2-D STUDY,1. Mild aortic stenosis, widely calc...  "
      ]
     },
     "execution_count": 24,
     "metadata": {},
     "output_type": "execute_result"
    }
   ],
   "source": [
    "df.head()"
   ]
  },
  {
   "cell_type": "code",
   "execution_count": 25,
   "metadata": {},
   "outputs": [],
   "source": [
    "# load nltk's English stopwords as variable called 'stop' and don't find synonym of those words.\n",
    "stop = nltk.corpus.stopwords.words('english')"
   ]
  },
  {
   "cell_type": "code",
   "execution_count": 26,
   "metadata": {},
   "outputs": [],
   "source": [
    "## Tokenizing sentence into token for finding synonym.\n",
    "def make_tokenizer(texts):\n",
    "    from keras.preprocessing.text import Tokenizer\n",
    "    t = Tokenizer()\n",
    "    t.fit_on_texts(texts)\n",
    "    return t\n",
    "\n",
    "tokenizer = make_tokenizer(df['transcription'])    ## Message is column name\n",
    "\n",
    "X = tokenizer.texts_to_sequences(df['transcription'])\n",
    "\n",
    "\n",
    "from keras_preprocessing.sequence import pad_sequences\n",
    "X = pad_sequences(X, 70)"
   ]
  },
  {
   "cell_type": "code",
   "execution_count": 27,
   "metadata": {},
   "outputs": [],
   "source": [
    "## Dictionary of word index\n",
    "index_word = {}\n",
    "for word in tokenizer.word_index.keys():\n",
    "    index_word[tokenizer.word_index[word]] = word"
   ]
  },
  {
   "cell_type": "code",
   "execution_count": 28,
   "metadata": {},
   "outputs": [],
   "source": [
    "## word list\n",
    "words = [value for key, value in index_word.items()]"
   ]
  },
  {
   "cell_type": "code",
   "execution_count": 29,
   "metadata": {},
   "outputs": [],
   "source": [
    "## Function to find synonym of words \n",
    "import spacy\n",
    "nlp = spacy.load('en_core_web_sm')\n",
    "def check_lemma(t,w) :\n",
    "    r = [d for d in t if (nlp(d.text)[0].lemma_ != nlp(w.text)[0].lemma_)]\n",
    "    return r\n",
    "\n",
    "def get_word_synonym(word):\n",
    "    filtered_words = [w for w in word.vocab if (not w.lower_ in stop) and w.is_lower == word.is_lower and w.prob >= -15] ## (not w.lower_ in stop) and\n",
    "    similarity = sorted(filtered_words, key=lambda w: word.similarity(w), reverse=True)\n",
    "    filtered_similarity = check_lemma(similarity[:30], word)\n",
    "    return filtered_similarity[:3]"
   ]
  },
  {
   "cell_type": "code",
   "execution_count": 30,
   "metadata": {},
   "outputs": [],
   "source": [
    "## Synonym dictionary\n",
    "synonym_dict = {}\n",
    "\n",
    "def check_oos(word):\n",
    "    return word.lower() not in nlp.vocab\n",
    "\n",
    "for word in words:\n",
    "    if (not check_oos(word)) :\n",
    "        synonym_dict.update({word : tuple([w.lower_ for w in get_word_synonym(nlp.vocab[word])])})\n",
    "        #print(word, \" : \", [w.lower_ for w in get_word_synonym(nlp.vocab[word])])"
   ]
  },
  {
   "cell_type": "code",
   "execution_count": 31,
   "metadata": {},
   "outputs": [],
   "source": [
    "## Only consider filtered synonym\n",
    "import collections\n",
    "value_occurrences = collections.Counter(synonym_dict.values())\n",
    "\n",
    "filtered_synonym = {key: value for key, value in synonym_dict.items() if value_occurrences[value] == 1}"
   ]
  },
  {
   "cell_type": "code",
   "execution_count": 32,
   "metadata": {},
   "outputs": [],
   "source": [
    "## Function for augmenting data by replacing words with synonym using spaCy\n",
    "## This might not be best best method compared to data augmentation using language translation\n",
    "\n",
    "import re\n",
    "import random\n",
    "sr = random.SystemRandom()\n",
    "split_pattern = re.compile(r'\\s+')\n",
    "def data_augmentation(message, aug_range=1) :\n",
    "    augmented_messages = []\n",
    "    for j in range(0,aug_range) :\n",
    "        new_message = \"\"\n",
    "        for i in filter(None, split_pattern.split(message)) :\n",
    "            new_message = new_message + \" \" + sr.choice(filtered_synonym.get(i,[i]))\n",
    "        augmented_messages.append(new_message)\n",
    "    return augmented_messages"
   ]
  },
  {
   "cell_type": "code",
   "execution_count": 33,
   "metadata": {},
   "outputs": [],
   "source": [
    "## Dictionary for intent count\n",
    "intent_count = df.medical_specialty.value_counts().to_dict()"
   ]
  },
  {
   "cell_type": "code",
   "execution_count": 34,
   "metadata": {},
   "outputs": [],
   "source": [
    "## Get max intent count to match other minority classes through data augmentation\n",
    "import operator\n",
    "max_intent_count = max(intent_count.items(), key=operator.itemgetter(1))[1]"
   ]
  },
  {
   "cell_type": "code",
   "execution_count": 35,
   "metadata": {
    "scrolled": false
   },
   "outputs": [
    {
     "name": "stderr",
     "output_type": "stream",
     "text": [
      "100%|██████████| 516/516 [00:18<00:00, 27.83it/s]\n",
      "100%|██████████| 371/371 [00:09<00:00, 39.28it/s]\n",
      "100%|██████████| 355/355 [00:17<00:00, 20.84it/s]\n"
     ]
    }
   ],
   "source": [
    "import numpy as np\n",
    "import math\n",
    "import tqdm\n",
    "\n",
    "newdf = []  # Initialize as a list\n",
    "\n",
    "for intent, count in intent_count.items():\n",
    "    count_diff = max_intent_count - count\n",
    "    multiplication_count = math.ceil((count_diff) / count)\n",
    "    if multiplication_count:\n",
    "        old_message_df = pd.DataFrame(columns=['transcription', 'medical_specialty'])  # Initialize as an empty DataFrame with columns\n",
    "        new_message_df = pd.DataFrame()\n",
    "        for message in tqdm.tqdm(df[df[\"medical_specialty\"] == intent][\"transcription\"]):\n",
    "            dummy1 = pd.DataFrame([message], columns=['transcription'])\n",
    "            dummy1[\"medical_specialty\"] = intent\n",
    "            old_message_df = pd.concat([old_message_df, dummy1])  # Concatenate the DataFrames\n",
    "\n",
    "            new_messages = data_augmentation(message, multiplication_count)  # Pass multiplication_count as an argument\n",
    "            dummy2 = pd.DataFrame(new_messages, columns=['transcription'])\n",
    "            dummy2[\"medical_specialty\"] = intent\n",
    "            new_message_df = pd.concat([new_message_df, dummy2])  # Concatenate the DataFrames\n",
    "\n",
    "        new_message_df = new_message_df.take(np.random.permutation(len(new_message_df))[:count_diff])\n",
    "\n",
    "        newdf.append(old_message_df)  # Append DataFrames to the list\n",
    "        newdf.append(new_message_df)  # Append DataFrames to the list\n",
    "    else:\n",
    "        newdf.append(df[df[\"medical_specialty\"] == intent])  # Append DataFrames to the list\n",
    "\n",
    "newdf = pd.concat(newdf)  # Convert the list of DataFrames to a single DataFrame"
   ]
  },
  {
   "cell_type": "code",
   "execution_count": 36,
   "metadata": {},
   "outputs": [
    {
     "data": {
      "text/plain": [
       "medical_specialty\n",
       " Surgery                       1088\n",
       " Consult - History and Phy.    1088\n",
       " Cardiovascular / Pulmonary    1088\n",
       " Orthopedic                    1088\n",
       "Name: count, dtype: int64"
      ]
     },
     "execution_count": 36,
     "metadata": {},
     "output_type": "execute_result"
    }
   ],
   "source": [
    "## Print count of all new data points\n",
    "newdf.medical_specialty.value_counts()"
   ]
  },
  {
   "cell_type": "code",
   "execution_count": 37,
   "metadata": {},
   "outputs": [
    {
     "data": {
      "text/html": [
       "<div>\n",
       "<style scoped>\n",
       "    .dataframe tbody tr th:only-of-type {\n",
       "        vertical-align: middle;\n",
       "    }\n",
       "\n",
       "    .dataframe tbody tr th {\n",
       "        vertical-align: top;\n",
       "    }\n",
       "\n",
       "    .dataframe thead th {\n",
       "        text-align: right;\n",
       "    }\n",
       "</style>\n",
       "<table border=\"1\" class=\"dataframe\">\n",
       "  <thead>\n",
       "    <tr style=\"text-align: right;\">\n",
       "      <th></th>\n",
       "      <th>medical_specialty</th>\n",
       "      <th>transcription</th>\n",
       "    </tr>\n",
       "  </thead>\n",
       "  <tbody>\n",
       "    <tr>\n",
       "      <th>174</th>\n",
       "      <td>Surgery</td>\n",
       "      <td>PREOPERATIVE DIAGNOSES:,1.  Hallux rigidus, le...</td>\n",
       "    </tr>\n",
       "    <tr>\n",
       "      <th>177</th>\n",
       "      <td>Surgery</td>\n",
       "      <td>PREOPERATIVE DIAGNOSIS: , Secondary capsular m...</td>\n",
       "    </tr>\n",
       "    <tr>\n",
       "      <th>179</th>\n",
       "      <td>Surgery</td>\n",
       "      <td>TITLE OF OPERATION: , Youngswick osteotomy wit...</td>\n",
       "    </tr>\n",
       "    <tr>\n",
       "      <th>181</th>\n",
       "      <td>Surgery</td>\n",
       "      <td>PREOPERATIVE DIAGNOSES,1.  Open wound from rig...</td>\n",
       "    </tr>\n",
       "    <tr>\n",
       "      <th>182</th>\n",
       "      <td>Surgery</td>\n",
       "      <td>PREOPERATIVE DIAGNOSIS:,  Visually significant...</td>\n",
       "    </tr>\n",
       "  </tbody>\n",
       "</table>\n",
       "</div>"
      ],
      "text/plain": [
       "    medical_specialty                                      transcription\n",
       "174           Surgery  PREOPERATIVE DIAGNOSES:,1.  Hallux rigidus, le...\n",
       "177           Surgery  PREOPERATIVE DIAGNOSIS: , Secondary capsular m...\n",
       "179           Surgery  TITLE OF OPERATION: , Youngswick osteotomy wit...\n",
       "181           Surgery  PREOPERATIVE DIAGNOSES,1.  Open wound from rig...\n",
       "182           Surgery  PREOPERATIVE DIAGNOSIS:,  Visually significant..."
      ]
     },
     "execution_count": 37,
     "metadata": {},
     "output_type": "execute_result"
    }
   ],
   "source": [
    "newdf.head()"
   ]
  },
  {
   "cell_type": "code",
   "execution_count": 38,
   "metadata": {
    "colab": {
     "base_uri": "https://localhost:8080/",
     "height": 521
    },
    "executionInfo": {
     "elapsed": 34,
     "status": "ok",
     "timestamp": 1702214194565,
     "user": {
      "displayName": "Liew Man Ting",
      "userId": "07590673243961657612"
     },
     "user_tz": -480
    },
    "id": "GPfyvFr_SZ0z",
    "outputId": "1f97da68-1e0d-4fd2-efbe-10af6fd7b164"
   },
   "outputs": [
    {
     "data": {
      "image/png": "[encoded data removed]",
      "text/plain": [
       "<Figure size 1000x600 with 1 Axes>"
      ]
     },
     "metadata": {},
     "output_type": "display_data"
    }
   ],
   "source": [
    "\n",
    "medical_specialty_counts = newdf['medical_specialty'].value_counts()\n",
    "plt.figure(figsize=(10, 6))\n",
    "\n",
    "labels = medical_specialty_counts.index\n",
    "sizes = medical_specialty_counts.values\n",
    "\n",
    "# Only explode if there is more than one category\n",
    "explode = (0.1,) * len(labels) if len(labels) > 1 else None\n",
    "\n",
    "plt.pie(sizes, explode=explode, labels=labels, autopct='%1.1f%%', startangle=140)\n",
    "\n",
    "plt.title('Medical Specialty Distribution')\n",
    "plt.show()\n"
   ]
  },
  {
   "cell_type": "code",
   "execution_count": 39,
   "metadata": {
    "colab": {
     "base_uri": "https://localhost:8080/"
    },
    "executionInfo": {
     "elapsed": 34,
     "status": "ok",
     "timestamp": 1702214194566,
     "user": {
      "displayName": "Liew Man Ting",
      "userId": "07590673243961657612"
     },
     "user_tz": -480
    },
    "id": "FKZApgp5T8vO",
    "outputId": "6de86c08-6423-4ae0-a4ba-15d352b18410",
    "scrolled": true
   },
   "outputs": [
    {
     "name": "stdout",
     "output_type": "stream",
     "text": [
      "<class 'pandas.core.frame.DataFrame'>\n",
      "Index: 4352 entries, 174 to 0\n",
      "Data columns (total 2 columns):\n",
      " #   Column             Non-Null Count  Dtype \n",
      "---  ------             --------------  ----- \n",
      " 0   medical_specialty  4352 non-null   object\n",
      " 1   transcription      4352 non-null   object\n",
      "dtypes: object(2)\n",
      "memory usage: 102.0+ KB\n"
     ]
    }
   ],
   "source": [
    "newdf.info()"
   ]
  },
  {
   "cell_type": "markdown",
   "metadata": {},
   "source": [
    "    "
   ]
  },
  {
   "cell_type": "markdown",
   "metadata": {
    "id": "PZgI0nJZcGgV"
   },
   "source": [
    "## <font color= grey> Text Normalisation<a class=\"anchor\" id=\"5.0\"></a>"
   ]
  },
  {
   "cell_type": "markdown",
   "metadata": {
    "id": "E9MYvXgfcLsf"
   },
   "source": [
    ">**Lower Case**<a class=\"anchor\" id=\"5.1\"></a>"
   ]
  },
  {
   "cell_type": "code",
   "execution_count": 40,
   "metadata": {
    "executionInfo": {
     "elapsed": 17,
     "status": "ok",
     "timestamp": 1702214196801,
     "user": {
      "displayName": "Liew Man Ting",
      "userId": "07590673243961657612"
     },
     "user_tz": -480
    },
    "id": "-8Wmx8K4Z-ar"
   },
   "outputs": [
    {
     "data": {
      "text/html": [
       "<div>\n",
       "<style scoped>\n",
       "    .dataframe tbody tr th:only-of-type {\n",
       "        vertical-align: middle;\n",
       "    }\n",
       "\n",
       "    .dataframe tbody tr th {\n",
       "        vertical-align: top;\n",
       "    }\n",
       "\n",
       "    .dataframe thead th {\n",
       "        text-align: right;\n",
       "    }\n",
       "</style>\n",
       "<table border=\"1\" class=\"dataframe\">\n",
       "  <thead>\n",
       "    <tr style=\"text-align: right;\">\n",
       "      <th></th>\n",
       "      <th>medical_specialty</th>\n",
       "      <th>transcription</th>\n",
       "    </tr>\n",
       "  </thead>\n",
       "  <tbody>\n",
       "    <tr>\n",
       "      <th>174</th>\n",
       "      <td>Surgery</td>\n",
       "      <td>preoperative diagnoses:,1.  hallux rigidus, le...</td>\n",
       "    </tr>\n",
       "    <tr>\n",
       "      <th>177</th>\n",
       "      <td>Surgery</td>\n",
       "      <td>preoperative diagnosis: , secondary capsular m...</td>\n",
       "    </tr>\n",
       "    <tr>\n",
       "      <th>179</th>\n",
       "      <td>Surgery</td>\n",
       "      <td>title of operation: , youngswick osteotomy wit...</td>\n",
       "    </tr>\n",
       "    <tr>\n",
       "      <th>181</th>\n",
       "      <td>Surgery</td>\n",
       "      <td>preoperative diagnoses,1.  open wound from rig...</td>\n",
       "    </tr>\n",
       "    <tr>\n",
       "      <th>182</th>\n",
       "      <td>Surgery</td>\n",
       "      <td>preoperative diagnosis:,  visually significant...</td>\n",
       "    </tr>\n",
       "  </tbody>\n",
       "</table>\n",
       "</div>"
      ],
      "text/plain": [
       "    medical_specialty                                      transcription\n",
       "174           Surgery  preoperative diagnoses:,1.  hallux rigidus, le...\n",
       "177           Surgery  preoperative diagnosis: , secondary capsular m...\n",
       "179           Surgery  title of operation: , youngswick osteotomy wit...\n",
       "181           Surgery  preoperative diagnoses,1.  open wound from rig...\n",
       "182           Surgery  preoperative diagnosis:,  visually significant..."
      ]
     },
     "execution_count": 40,
     "metadata": {},
     "output_type": "execute_result"
    }
   ],
   "source": [
    "# # To convert transcription into lowercase\n",
    "def lower(df, attribute):\n",
    "    df.loc[:,attribute] = df[attribute].apply(lambda x : str.lower(x))\n",
    "    return df\n",
    "newdf = lower(newdf,'transcription')\n",
    "newdf.head()"
   ]
  },
  {
   "cell_type": "markdown",
   "metadata": {
    "id": "Hzfcm3NlcfbA"
   },
   "source": [
    ">**Remove Punctuations**<a class=\"anchor\" id=\"5.2\"></a>"
   ]
  },
  {
   "cell_type": "code",
   "execution_count": 41,
   "metadata": {
    "executionInfo": {
     "elapsed": 16,
     "status": "ok",
     "timestamp": 1702214196801,
     "user": {
      "displayName": "Liew Man Ting",
      "userId": "07590673243961657612"
     },
     "user_tz": -480
    },
    "id": "QFjsCAj_cQc-"
   },
   "outputs": [
    {
     "ename": "ValueError",
     "evalue": "Cannot set a DataFrame with multiple columns to the single column cleaned_transcription",
     "output_type": "error",
     "traceback": [
      "\u001b[1;31m---------------------------------------------------------------------------\u001b[0m",
      "\u001b[1;31mValueError\u001b[0m                                Traceback (most recent call last)",
      "\u001b[1;32m~\\AppData\\Local\\Temp\\ipykernel_11792\\2782231251.py\u001b[0m in \u001b[0;36m?\u001b[1;34m()\u001b[0m\n\u001b[0;32m      1\u001b[0m \u001b[1;32mdef\u001b[0m \u001b[0mremove_punc\u001b[0m\u001b[1;33m(\u001b[0m\u001b[0mdf\u001b[0m\u001b[1;33m,\u001b[0m \u001b[0mattribute\u001b[0m\u001b[1;33m)\u001b[0m\u001b[1;33m:\u001b[0m\u001b[1;33m\u001b[0m\u001b[1;33m\u001b[0m\u001b[0m\n\u001b[0;32m      2\u001b[0m     \u001b[0mdf\u001b[0m\u001b[1;33m.\u001b[0m\u001b[0mloc\u001b[0m\u001b[1;33m[\u001b[0m\u001b[1;33m:\u001b[0m\u001b[1;33m,\u001b[0m \u001b[0mattribute\u001b[0m\u001b[1;33m]\u001b[0m \u001b[1;33m=\u001b[0m \u001b[0mdf\u001b[0m\u001b[1;33m[\u001b[0m\u001b[0mattribute\u001b[0m\u001b[1;33m]\u001b[0m\u001b[1;33m.\u001b[0m\u001b[0mapply\u001b[0m\u001b[1;33m(\u001b[0m\u001b[1;32mlambda\u001b[0m \u001b[0mx\u001b[0m\u001b[1;33m:\u001b[0m \u001b[1;34m\" \"\u001b[0m\u001b[1;33m.\u001b[0m\u001b[0mjoin\u001b[0m\u001b[1;33m(\u001b[0m\u001b[0mre\u001b[0m\u001b[1;33m.\u001b[0m\u001b[0mfindall\u001b[0m\u001b[1;33m(\u001b[0m\u001b[1;34m'[\\w\\d]+'\u001b[0m\u001b[1;33m,\u001b[0m \u001b[0mx\u001b[0m\u001b[1;33m)\u001b[0m\u001b[1;33m)\u001b[0m\u001b[1;33m)\u001b[0m\u001b[1;33m\u001b[0m\u001b[1;33m\u001b[0m\u001b[0m\n\u001b[0;32m      3\u001b[0m     \u001b[1;32mreturn\u001b[0m \u001b[0mdf\u001b[0m\u001b[1;33m\u001b[0m\u001b[1;33m\u001b[0m\u001b[0m\n\u001b[1;32m----> 4\u001b[1;33m \u001b[0mnewdf\u001b[0m\u001b[1;33m[\u001b[0m\u001b[1;34m'cleaned_transcription'\u001b[0m\u001b[1;33m]\u001b[0m \u001b[1;33m=\u001b[0m\u001b[0mremove_punc\u001b[0m\u001b[1;33m(\u001b[0m\u001b[0mnewdf\u001b[0m\u001b[1;33m,\u001b[0m \u001b[1;34m'transcription'\u001b[0m\u001b[1;33m)\u001b[0m\u001b[1;33m\u001b[0m\u001b[1;33m\u001b[0m\u001b[0m\n\u001b[0m\u001b[0;32m      5\u001b[0m \u001b[0mnewdf\u001b[0m\u001b[1;33m.\u001b[0m\u001b[0mhead\u001b[0m\u001b[1;33m(\u001b[0m\u001b[1;33m)\u001b[0m\u001b[1;33m\u001b[0m\u001b[1;33m\u001b[0m\u001b[0m\n",
      "\u001b[1;32m~\\anaconda3\\envs\\NLP\\lib\\site-packages\\pandas\\core\\frame.py\u001b[0m in \u001b[0;36m?\u001b[1;34m(self, key, value)\u001b[0m\n\u001b[0;32m   3936\u001b[0m             \u001b[0mself\u001b[0m\u001b[1;33m.\u001b[0m\u001b[0m_setitem_frame\u001b[0m\u001b[1;33m(\u001b[0m\u001b[0mkey\u001b[0m\u001b[1;33m,\u001b[0m \u001b[0mvalue\u001b[0m\u001b[1;33m)\u001b[0m\u001b[1;33m\u001b[0m\u001b[1;33m\u001b[0m\u001b[0m\n\u001b[0;32m   3937\u001b[0m         \u001b[1;32melif\u001b[0m \u001b[0misinstance\u001b[0m\u001b[1;33m(\u001b[0m\u001b[0mkey\u001b[0m\u001b[1;33m,\u001b[0m \u001b[1;33m(\u001b[0m\u001b[0mSeries\u001b[0m\u001b[1;33m,\u001b[0m \u001b[0mnp\u001b[0m\u001b[1;33m.\u001b[0m\u001b[0mndarray\u001b[0m\u001b[1;33m,\u001b[0m \u001b[0mlist\u001b[0m\u001b[1;33m,\u001b[0m \u001b[0mIndex\u001b[0m\u001b[1;33m)\u001b[0m\u001b[1;33m)\u001b[0m\u001b[1;33m:\u001b[0m\u001b[1;33m\u001b[0m\u001b[1;33m\u001b[0m\u001b[0m\n\u001b[0;32m   3938\u001b[0m             \u001b[0mself\u001b[0m\u001b[1;33m.\u001b[0m\u001b[0m_setitem_array\u001b[0m\u001b[1;33m(\u001b[0m\u001b[0mkey\u001b[0m\u001b[1;33m,\u001b[0m \u001b[0mvalue\u001b[0m\u001b[1;33m)\u001b[0m\u001b[1;33m\u001b[0m\u001b[1;33m\u001b[0m\u001b[0m\n\u001b[0;32m   3939\u001b[0m         \u001b[1;32melif\u001b[0m \u001b[0misinstance\u001b[0m\u001b[1;33m(\u001b[0m\u001b[0mvalue\u001b[0m\u001b[1;33m,\u001b[0m \u001b[0mDataFrame\u001b[0m\u001b[1;33m)\u001b[0m\u001b[1;33m:\u001b[0m\u001b[1;33m\u001b[0m\u001b[1;33m\u001b[0m\u001b[0m\n\u001b[1;32m-> 3940\u001b[1;33m             \u001b[0mself\u001b[0m\u001b[1;33m.\u001b[0m\u001b[0m_set_item_frame_value\u001b[0m\u001b[1;33m(\u001b[0m\u001b[0mkey\u001b[0m\u001b[1;33m,\u001b[0m \u001b[0mvalue\u001b[0m\u001b[1;33m)\u001b[0m\u001b[1;33m\u001b[0m\u001b[1;33m\u001b[0m\u001b[0m\n\u001b[0m\u001b[0;32m   3941\u001b[0m         elif (\n\u001b[0;32m   3942\u001b[0m             \u001b[0mis_list_like\u001b[0m\u001b[1;33m(\u001b[0m\u001b[0mvalue\u001b[0m\u001b[1;33m)\u001b[0m\u001b[1;33m\u001b[0m\u001b[1;33m\u001b[0m\u001b[0m\n\u001b[0;32m   3943\u001b[0m             \u001b[1;32mand\u001b[0m \u001b[1;32mnot\u001b[0m \u001b[0mself\u001b[0m\u001b[1;33m.\u001b[0m\u001b[0mcolumns\u001b[0m\u001b[1;33m.\u001b[0m\u001b[0mis_unique\u001b[0m\u001b[1;33m\u001b[0m\u001b[1;33m\u001b[0m\u001b[0m\n",
      "\u001b[1;32m~\\anaconda3\\envs\\NLP\\lib\\site-packages\\pandas\\core\\frame.py\u001b[0m in \u001b[0;36m?\u001b[1;34m(self, key, value)\u001b[0m\n\u001b[0;32m   4090\u001b[0m             \u001b[0mself\u001b[0m\u001b[1;33m.\u001b[0m\u001b[0m_set_item_mgr\u001b[0m\u001b[1;33m(\u001b[0m\u001b[0mkey\u001b[0m\u001b[1;33m,\u001b[0m \u001b[0marraylike\u001b[0m\u001b[1;33m)\u001b[0m\u001b[1;33m\u001b[0m\u001b[1;33m\u001b[0m\u001b[0m\n\u001b[0;32m   4091\u001b[0m             \u001b[1;32mreturn\u001b[0m\u001b[1;33m\u001b[0m\u001b[1;33m\u001b[0m\u001b[0m\n\u001b[0;32m   4092\u001b[0m \u001b[1;33m\u001b[0m\u001b[0m\n\u001b[0;32m   4093\u001b[0m         \u001b[1;32mif\u001b[0m \u001b[0mlen\u001b[0m\u001b[1;33m(\u001b[0m\u001b[0mvalue\u001b[0m\u001b[1;33m.\u001b[0m\u001b[0mcolumns\u001b[0m\u001b[1;33m)\u001b[0m \u001b[1;33m!=\u001b[0m \u001b[1;36m1\u001b[0m\u001b[1;33m:\u001b[0m\u001b[1;33m\u001b[0m\u001b[1;33m\u001b[0m\u001b[0m\n\u001b[1;32m-> 4094\u001b[1;33m             raise ValueError(\n\u001b[0m\u001b[0;32m   4095\u001b[0m                 \u001b[1;34m\"Cannot set a DataFrame with multiple columns to the single \"\u001b[0m\u001b[1;33m\u001b[0m\u001b[1;33m\u001b[0m\u001b[0m\n\u001b[0;32m   4096\u001b[0m                 \u001b[1;34mf\"column {key}\"\u001b[0m\u001b[1;33m\u001b[0m\u001b[1;33m\u001b[0m\u001b[0m\n\u001b[0;32m   4097\u001b[0m             )\n",
      "\u001b[1;31mValueError\u001b[0m: Cannot set a DataFrame with multiple columns to the single column cleaned_transcription"
     ]
    }
   ],
   "source": [
    "def remove_punc(df, attribute):\n",
    "    df.loc[:, attribute] = df[attribute].apply(lambda x: \" \".join(re.findall('[\\w\\d]+', x)))\n",
    "    return df\n",
    "newdf['cleaned_transcription'] =remove_punc(newdf, 'transcription')\n",
    "newdf.head()"
   ]
  },
  {
   "cell_type": "markdown",
   "metadata": {
    "id": "1BWCPMExeEjy"
   },
   "source": [
    ">**Removing Stop Words**<a class=\"anchor\" id=\"5.3\"></a>"
   ]
  },
  {
   "cell_type": "code",
   "execution_count": 31,
   "metadata": {
    "executionInfo": {
     "elapsed": 16,
     "status": "ok",
     "timestamp": 1702214196801,
     "user": {
      "displayName": "Liew Man Ting",
      "userId": "07590673243961657612"
     },
     "user_tz": -480
    },
    "id": "fKpVMNlJdk3Y"
   },
   "outputs": [
    {
     "data": {
      "text/html": [
       "<div>\n",
       "<style scoped>\n",
       "    .dataframe tbody tr th:only-of-type {\n",
       "        vertical-align: middle;\n",
       "    }\n",
       "\n",
       "    .dataframe tbody tr th {\n",
       "        vertical-align: top;\n",
       "    }\n",
       "\n",
       "    .dataframe thead th {\n",
       "        text-align: right;\n",
       "    }\n",
       "</style>\n",
       "<table border=\"1\" class=\"dataframe\">\n",
       "  <thead>\n",
       "    <tr style=\"text-align: right;\">\n",
       "      <th></th>\n",
       "      <th>medical_specialty</th>\n",
       "      <th>transcription</th>\n",
       "      <th>cleaned_transcription</th>\n",
       "    </tr>\n",
       "  </thead>\n",
       "  <tbody>\n",
       "    <tr>\n",
       "      <th>174</th>\n",
       "      <td>Surgery</td>\n",
       "      <td>preoperative diagnoses:,1.  hallux rigidus, le...</td>\n",
       "      <td>preoperative diagnoses:,1. hallux rigidus, lef...</td>\n",
       "    </tr>\n",
       "    <tr>\n",
       "      <th>177</th>\n",
       "      <td>Surgery</td>\n",
       "      <td>preoperative diagnosis: , secondary capsular m...</td>\n",
       "      <td>preoperative diagnosis: , secondary capsular m...</td>\n",
       "    </tr>\n",
       "    <tr>\n",
       "      <th>179</th>\n",
       "      <td>Surgery</td>\n",
       "      <td>title of operation: , youngswick osteotomy wit...</td>\n",
       "      <td>title operation: , youngswick osteotomy intern...</td>\n",
       "    </tr>\n",
       "    <tr>\n",
       "      <th>181</th>\n",
       "      <td>Surgery</td>\n",
       "      <td>preoperative diagnoses,1.  open wound from rig...</td>\n",
       "      <td>preoperative diagnoses,1. open wound right axi...</td>\n",
       "    </tr>\n",
       "    <tr>\n",
       "      <th>182</th>\n",
       "      <td>Surgery</td>\n",
       "      <td>preoperative diagnosis:,  visually significant...</td>\n",
       "      <td>preoperative diagnosis:, visually significant ...</td>\n",
       "    </tr>\n",
       "  </tbody>\n",
       "</table>\n",
       "</div>"
      ],
      "text/plain": [
       "    medical_specialty                                      transcription  \\\n",
       "174           Surgery  preoperative diagnoses:,1.  hallux rigidus, le...   \n",
       "177           Surgery  preoperative diagnosis: , secondary capsular m...   \n",
       "179           Surgery  title of operation: , youngswick osteotomy wit...   \n",
       "181           Surgery  preoperative diagnoses,1.  open wound from rig...   \n",
       "182           Surgery  preoperative diagnosis:,  visually significant...   \n",
       "\n",
       "                                 cleaned_transcription  \n",
       "174  preoperative diagnoses:,1. hallux rigidus, lef...  \n",
       "177  preoperative diagnosis: , secondary capsular m...  \n",
       "179  title operation: , youngswick osteotomy intern...  \n",
       "181  preoperative diagnoses,1. open wound right axi...  \n",
       "182  preoperative diagnosis:, visually significant ...  "
      ]
     },
     "execution_count": 31,
     "metadata": {},
     "output_type": "execute_result"
    }
   ],
   "source": [
    "# # Define the function to remove stop words\n",
    "def remove_stop_words(text):\n",
    "    stop = stopwords.words('english')\n",
    "    return ' '.join([word for word in text.split() if word.lower() not in stop])\n",
    "\n",
    "# # Apply the function to the 'transcription' column\n",
    "newdf['cleaned_transcription'] = newdf['transcription'].apply(remove_stop_words)\n",
    "newdf.head()"
   ]
  },
  {
   "cell_type": "markdown",
   "metadata": {
    "id": "PcaejM_ycxWF"
   },
   "source": [
    ">**Tokenisation**<a class=\"anchor\" id=\"5.4\"></a>"
   ]
  },
  {
   "cell_type": "code",
   "execution_count": 32,
   "metadata": {
    "executionInfo": {
     "elapsed": 16,
     "status": "ok",
     "timestamp": 1702214196801,
     "user": {
      "displayName": "Liew Man Ting",
      "userId": "07590673243961657612"
     },
     "user_tz": -480
    },
    "id": "OvS19Pzwcln4"
   },
   "outputs": [
    {
     "data": {
      "text/html": [
       "<div>\n",
       "<style scoped>\n",
       "    .dataframe tbody tr th:only-of-type {\n",
       "        vertical-align: middle;\n",
       "    }\n",
       "\n",
       "    .dataframe tbody tr th {\n",
       "        vertical-align: top;\n",
       "    }\n",
       "\n",
       "    .dataframe thead th {\n",
       "        text-align: right;\n",
       "    }\n",
       "</style>\n",
       "<table border=\"1\" class=\"dataframe\">\n",
       "  <thead>\n",
       "    <tr style=\"text-align: right;\">\n",
       "      <th></th>\n",
       "      <th>medical_specialty</th>\n",
       "      <th>transcription</th>\n",
       "      <th>cleaned_transcription</th>\n",
       "    </tr>\n",
       "  </thead>\n",
       "  <tbody>\n",
       "    <tr>\n",
       "      <th>174</th>\n",
       "      <td>Surgery</td>\n",
       "      <td>preoperative diagnoses:,1.  hallux rigidus, le...</td>\n",
       "      <td>[preoperative, diagnoses:,1., hallux, rigidus,...</td>\n",
       "    </tr>\n",
       "    <tr>\n",
       "      <th>177</th>\n",
       "      <td>Surgery</td>\n",
       "      <td>preoperative diagnosis: , secondary capsular m...</td>\n",
       "      <td>[preoperative, diagnosis:, ,, secondary, capsu...</td>\n",
       "    </tr>\n",
       "    <tr>\n",
       "      <th>179</th>\n",
       "      <td>Surgery</td>\n",
       "      <td>title of operation: , youngswick osteotomy wit...</td>\n",
       "      <td>[title, operation:, ,, youngswick, osteotomy, ...</td>\n",
       "    </tr>\n",
       "    <tr>\n",
       "      <th>181</th>\n",
       "      <td>Surgery</td>\n",
       "      <td>preoperative diagnoses,1.  open wound from rig...</td>\n",
       "      <td>[preoperative, diagnoses,1., open, wound, righ...</td>\n",
       "    </tr>\n",
       "    <tr>\n",
       "      <th>182</th>\n",
       "      <td>Surgery</td>\n",
       "      <td>preoperative diagnosis:,  visually significant...</td>\n",
       "      <td>[preoperative, diagnosis:,, visually, signific...</td>\n",
       "    </tr>\n",
       "  </tbody>\n",
       "</table>\n",
       "</div>"
      ],
      "text/plain": [
       "    medical_specialty                                      transcription  \\\n",
       "174           Surgery  preoperative diagnoses:,1.  hallux rigidus, le...   \n",
       "177           Surgery  preoperative diagnosis: , secondary capsular m...   \n",
       "179           Surgery  title of operation: , youngswick osteotomy wit...   \n",
       "181           Surgery  preoperative diagnoses,1.  open wound from rig...   \n",
       "182           Surgery  preoperative diagnosis:,  visually significant...   \n",
       "\n",
       "                                 cleaned_transcription  \n",
       "174  [preoperative, diagnoses:,1., hallux, rigidus,...  \n",
       "177  [preoperative, diagnosis:, ,, secondary, capsu...  \n",
       "179  [title, operation:, ,, youngswick, osteotomy, ...  \n",
       "181  [preoperative, diagnoses,1., open, wound, righ...  \n",
       "182  [preoperative, diagnosis:,, visually, signific...  "
      ]
     },
     "execution_count": 32,
     "metadata": {},
     "output_type": "execute_result"
    }
   ],
   "source": [
    "# to tokenise transcription\n",
    "\n",
    "tk =WhitespaceTokenizer()\n",
    "\n",
    "def tokenise(df, attribute):\n",
    "    df['cleaned_transcription'] = df.apply(lambda row: tk.tokenize(str(row[attribute])), axis=1)\n",
    "    return df\n",
    "\n",
    "newdf =tokenise(newdf, 'cleaned_transcription')\n",
    "# df_experiment =df.copy()\n",
    "newdf.head()"
   ]
  },
  {
   "cell_type": "markdown",
   "metadata": {
    "id": "BE15g6kqdMrN"
   },
   "source": [
    ">**Lemmatize<a class=\"anchor\" id=\"5.5\"></a>**"
   ]
  },
  {
   "cell_type": "code",
   "execution_count": 33,
   "metadata": {
    "executionInfo": {
     "elapsed": 16,
     "status": "ok",
     "timestamp": 1702214196801,
     "user": {
      "displayName": "Liew Man Ting",
      "userId": "07590673243961657612"
     },
     "user_tz": -480
    },
    "id": "qLz2aH95dEAC"
   },
   "outputs": [
    {
     "data": {
      "text/html": [
       "<div>\n",
       "<style scoped>\n",
       "    .dataframe tbody tr th:only-of-type {\n",
       "        vertical-align: middle;\n",
       "    }\n",
       "\n",
       "    .dataframe tbody tr th {\n",
       "        vertical-align: top;\n",
       "    }\n",
       "\n",
       "    .dataframe thead th {\n",
       "        text-align: right;\n",
       "    }\n",
       "</style>\n",
       "<table border=\"1\" class=\"dataframe\">\n",
       "  <thead>\n",
       "    <tr style=\"text-align: right;\">\n",
       "      <th></th>\n",
       "      <th>medical_specialty</th>\n",
       "      <th>transcription</th>\n",
       "      <th>cleaned_transcription</th>\n",
       "    </tr>\n",
       "  </thead>\n",
       "  <tbody>\n",
       "    <tr>\n",
       "      <th>174</th>\n",
       "      <td>Surgery</td>\n",
       "      <td>preoperative diagnoses:,1.  hallux rigidus, le...</td>\n",
       "      <td>[preoperative, diagnoses:,1., hallux, rigidus,...</td>\n",
       "    </tr>\n",
       "    <tr>\n",
       "      <th>177</th>\n",
       "      <td>Surgery</td>\n",
       "      <td>preoperative diagnosis: , secondary capsular m...</td>\n",
       "      <td>[preoperative, diagnosis:, ,, secondary, capsu...</td>\n",
       "    </tr>\n",
       "    <tr>\n",
       "      <th>179</th>\n",
       "      <td>Surgery</td>\n",
       "      <td>title of operation: , youngswick osteotomy wit...</td>\n",
       "      <td>[title, operation:, ,, youngswick, osteotomy, ...</td>\n",
       "    </tr>\n",
       "    <tr>\n",
       "      <th>181</th>\n",
       "      <td>Surgery</td>\n",
       "      <td>preoperative diagnoses,1.  open wound from rig...</td>\n",
       "      <td>[preoperative, diagnoses,1., open, wound, righ...</td>\n",
       "    </tr>\n",
       "    <tr>\n",
       "      <th>182</th>\n",
       "      <td>Surgery</td>\n",
       "      <td>preoperative diagnosis:,  visually significant...</td>\n",
       "      <td>[preoperative, diagnosis:,, visually, signific...</td>\n",
       "    </tr>\n",
       "  </tbody>\n",
       "</table>\n",
       "</div>"
      ],
      "text/plain": [
       "    medical_specialty                                      transcription  \\\n",
       "174           Surgery  preoperative diagnoses:,1.  hallux rigidus, le...   \n",
       "177           Surgery  preoperative diagnosis: , secondary capsular m...   \n",
       "179           Surgery  title of operation: , youngswick osteotomy wit...   \n",
       "181           Surgery  preoperative diagnoses,1.  open wound from rig...   \n",
       "182           Surgery  preoperative diagnosis:,  visually significant...   \n",
       "\n",
       "                                 cleaned_transcription  \n",
       "174  [preoperative, diagnoses:,1., hallux, rigidus,...  \n",
       "177  [preoperative, diagnosis:, ,, secondary, capsu...  \n",
       "179  [title, operation:, ,, youngswick, osteotomy, ...  \n",
       "181  [preoperative, diagnoses,1., open, wound, righ...  \n",
       "182  [preoperative, diagnosis:,, visually, signific...  "
      ]
     },
     "execution_count": 33,
     "metadata": {},
     "output_type": "execute_result"
    }
   ],
   "source": [
    "lemmatizer = WordNetLemmatizer()\n",
    "\n",
    "def lemmatize_tokens(tokens):\n",
    "    return [lemmatizer.lemmatize(token) for token in tokens]\n",
    "\n",
    "# # Apply lemmatization to the 'tokenized' column\n",
    "newdf['cleaned_transcription'] = newdf['cleaned_transcription'].apply(lambda tokens: lemmatize_tokens(tokens))\n",
    "\n",
    "newdf.head()"
   ]
  },
  {
   "cell_type": "markdown",
   "metadata": {},
   "source": [
    ">**All-in-One function**<a class=\"anchor\" id=\"5.6\"></a>"
   ]
  },
  {
   "cell_type": "code",
   "execution_count": 34,
   "metadata": {},
   "outputs": [
    {
     "data": {
      "text/html": [
       "<div>\n",
       "<style scoped>\n",
       "    .dataframe tbody tr th:only-of-type {\n",
       "        vertical-align: middle;\n",
       "    }\n",
       "\n",
       "    .dataframe tbody tr th {\n",
       "        vertical-align: top;\n",
       "    }\n",
       "\n",
       "    .dataframe thead th {\n",
       "        text-align: right;\n",
       "    }\n",
       "</style>\n",
       "<table border=\"1\" class=\"dataframe\">\n",
       "  <thead>\n",
       "    <tr style=\"text-align: right;\">\n",
       "      <th></th>\n",
       "      <th>medical_specialty</th>\n",
       "      <th>transcription</th>\n",
       "      <th>cleaned_transcription</th>\n",
       "    </tr>\n",
       "  </thead>\n",
       "  <tbody>\n",
       "    <tr>\n",
       "      <th>174</th>\n",
       "      <td>Surgery</td>\n",
       "      <td>preoperative diagnoses:,1.  hallux rigidus, le...</td>\n",
       "      <td>preoperative diagnoses1 hallux rigidus left fo...</td>\n",
       "    </tr>\n",
       "    <tr>\n",
       "      <th>177</th>\n",
       "      <td>Surgery</td>\n",
       "      <td>preoperative diagnosis: , secondary capsular m...</td>\n",
       "      <td>preoperative diagnosis secondary capsular memb...</td>\n",
       "    </tr>\n",
       "    <tr>\n",
       "      <th>179</th>\n",
       "      <td>Surgery</td>\n",
       "      <td>title of operation: , youngswick osteotomy wit...</td>\n",
       "      <td>title operation youngswick osteotomy internal ...</td>\n",
       "    </tr>\n",
       "    <tr>\n",
       "      <th>181</th>\n",
       "      <td>Surgery</td>\n",
       "      <td>preoperative diagnoses,1.  open wound from rig...</td>\n",
       "      <td>preoperative diagnoses1 open wound right axill...</td>\n",
       "    </tr>\n",
       "    <tr>\n",
       "      <th>182</th>\n",
       "      <td>Surgery</td>\n",
       "      <td>preoperative diagnosis:,  visually significant...</td>\n",
       "      <td>preoperative diagnosis visually significant po...</td>\n",
       "    </tr>\n",
       "  </tbody>\n",
       "</table>\n",
       "</div>"
      ],
      "text/plain": [
       "    medical_specialty                                      transcription  \\\n",
       "174           Surgery  preoperative diagnoses:,1.  hallux rigidus, le...   \n",
       "177           Surgery  preoperative diagnosis: , secondary capsular m...   \n",
       "179           Surgery  title of operation: , youngswick osteotomy wit...   \n",
       "181           Surgery  preoperative diagnoses,1.  open wound from rig...   \n",
       "182           Surgery  preoperative diagnosis:,  visually significant...   \n",
       "\n",
       "                                 cleaned_transcription  \n",
       "174  preoperative diagnoses1 hallux rigidus left fo...  \n",
       "177  preoperative diagnosis secondary capsular memb...  \n",
       "179  title operation youngswick osteotomy internal ...  \n",
       "181  preoperative diagnoses1 open wound right axill...  \n",
       "182  preoperative diagnosis visually significant po...  "
      ]
     },
     "execution_count": 34,
     "metadata": {},
     "output_type": "execute_result"
    }
   ],
   "source": [
    "lemmatizer = WordNetLemmatizer()\n",
    "\n",
    "def clean_text(text):\n",
    "    # change to lower case and remove string\n",
    "    text = \"\".join([word.lower() for word in text if word not in string.punctuation])\n",
    "    # remove white spaces and tokenize\n",
    "    tokens = re.split('\\W+', text)\n",
    "    # lemmatized and remove stopwords\n",
    "    stop_words = set(stopwords.words('english'))\n",
    "    text = ' '.join([lemmatizer.lemmatize(word) for word in tokens if word not in stop_words])\n",
    "    return text\n",
    "\n",
    "newdf['cleaned_transcription'] = newdf['transcription'].apply(lambda x: clean_text(x))\n",
    "newdf.head()"
   ]
  },
  {
   "cell_type": "markdown",
   "metadata": {
    "id": "QsKOXBaO0mCb"
   },
   "source": [
    "## <font color= grey> Train Test Spilt"
   ]
  },
  {
   "cell_type": "code",
   "execution_count": 50,
   "metadata": {
    "colab": {
     "base_uri": "https://localhost:8080/"
    },
    "executionInfo": {
     "elapsed": 17,
     "status": "ok",
     "timestamp": 1702214196802,
     "user": {
      "displayName": "Liew Man Ting",
      "userId": "07590673243961657612"
     },
     "user_tz": -480
    },
    "id": "x6CQTQdAoPmn",
    "outputId": "d0003c7f-82e1-48ce-cd92-c5552e0d559e"
   },
   "outputs": [
    {
     "name": "stdout",
     "output_type": "stream",
     "text": [
      "(2611, 2)\n",
      "(871, 2)\n",
      "(870, 2)\n",
      "(870,)\n",
      "(2611,)\n",
      "(871,)\n"
     ]
    }
   ],
   "source": [
    "X_train, X_test, y_train, y_test = train_test_split(newdf[['transcription','cleaned_transcription']], newdf['medical_specialty'], test_size=0.4,random_state=42)\n",
    "X_val, X_test, y_val, y_test = train_test_split(X_test, y_test, test_size=0.5, random_state=42)\n",
    "\n",
    "print(X_train.shape)\n",
    "print(X_test.shape)\n",
    "print(X_val.shape)\n",
    "print(y_val.shape)\n",
    "print(y_train.shape)\n",
    "print(y_test.shape)"
   ]
  },
  {
   "cell_type": "markdown",
   "metadata": {},
   "source": [
    "    "
   ]
  },
  {
   "cell_type": "markdown",
   "metadata": {
    "id": "50Jo2vXLlvcX"
   },
   "source": [
    "## <font color= grey> Test Representation"
   ]
  },
  {
   "cell_type": "markdown",
   "metadata": {
    "id": "mBTUrUdylz5M"
   },
   "source": [
    "For text representation, there are four different methods, which includes:\n",
    "1. Count Vectorization\n",
    "2. Bag-of-N-grams\n",
    "3. TF-IDF"
   ]
  },
  {
   "cell_type": "markdown",
   "metadata": {
    "id": "dnFTCHjJmK6b"
   },
   "source": [
    ">**Count Vectorization**"
   ]
  },
  {
   "cell_type": "code",
   "execution_count": 51,
   "metadata": {
    "colab": {
     "base_uri": "https://localhost:8080/"
    },
    "executionInfo": {
     "elapsed": 6070,
     "status": "ok",
     "timestamp": 1702214357980,
     "user": {
      "displayName": "Liew Man Ting",
      "userId": "07590673243961657612"
     },
     "user_tz": -480
    },
    "id": "spxDegogmKHT",
    "outputId": "2ea8f294-229c-41a8-aada-6d752be2548f"
   },
   "outputs": [
    {
     "name": "stdout",
     "output_type": "stream",
     "text": [
      "(2611, 43)\n",
      "(870, 43)\n",
      "(871, 43)\n"
     ]
    }
   ],
   "source": [
    "from sklearn.feature_extraction.text import CountVectorizer\n",
    "\n",
    "count_vect = CountVectorizer(analyzer=clean_text)\n",
    "X_count_train = count_vect.fit_transform(X_train['transcription'])\n",
    "X_count_val = count_vect.transform(X_val['transcription'])\n",
    "X_count_test = count_vect.transform(X_test['transcription'])\n",
    "\n",
    "print(X_count_train.shape)\n",
    "print(X_count_val.shape)\n",
    "print(X_count_test.shape)"
   ]
  },
  {
   "cell_type": "code",
   "execution_count": null,
   "metadata": {
    "executionInfo": {
     "elapsed": 12,
     "status": "ok",
     "timestamp": 1702214200408,
     "user": {
      "displayName": "Liew Man Ting",
      "userId": "07590673243961657612"
     },
     "user_tz": -480
    },
    "id": "kAlP7tFsmtdW"
   },
   "outputs": [],
   "source": [
    "# # Function to flatten a list of words into a string\n",
    "# def flatten_list(words):\n",
    "#     return ' '.join(words)\n",
    "\n",
    "# # Apply the flatten_list function to each row in the 'lemmatized' column\n",
    "# df['lemmatized_flat'] = df['lemmatized'].apply(lambda x: flatten_list(x))\n",
    "\n",
    "# # Label Encoding\n",
    "# label_encoder = LabelEncoder()\n",
    "# df['label_encoded'] = label_encoder.fit_transform(df['lemmatized_flat'])\n",
    "# print(\"Label Encoded:\\n\", df[['lemmatized', 'label_encoded']])\n",
    "# print()\n",
    "\n",
    "# # One-Hot Encoding\n",
    "# onehot_encoder = OneHotEncoder(sparse=False)  # Use sparse=False to get a dense array\n",
    "# onehot_encoded = onehot_encoder.fit_transform(df['label_encoded'].values.reshape(-1, 1))\n",
    "# one_hot_df = pd.DataFrame(onehot_encoded, columns=[f'feature_{i}' for i in range(onehot_encoded.shape[1])])\n",
    "\n",
    "# # Reset the index of the original DataFrame before concatenation\n",
    "# df = df.reset_index(drop=True)\n",
    "# df = pd.concat([df, one_hot_df], axis=1)\n",
    "# print(\"Onehot Encoded Matrix:\\n\", df)"
   ]
  },
  {
   "cell_type": "markdown",
   "metadata": {
    "id": "Erujn5gbwzw9"
   },
   "source": [
    ">**Bag-of-n-gram**"
   ]
  },
  {
   "cell_type": "markdown",
   "metadata": {},
   "source": [
    "n_gram_features = {\n",
    "    'unigram_bigram': (1, 2),\n",
    "    'bigram': (2, 2),\n",
    "    'bigram_trigram': (2, 3),\n",
    "    'trigram': (3, 3)\n",
    "}"
   ]
  },
  {
   "cell_type": "code",
   "execution_count": 52,
   "metadata": {},
   "outputs": [
    {
     "name": "stdout",
     "output_type": "stream",
     "text": [
      "(2611, 266467)\n",
      "(2611, 266467)\n",
      "(2611, 266467)\n"
     ]
    }
   ],
   "source": [
    "ngram_vect = CountVectorizer(ngram_range=(1, 2))\n",
    "\n",
    "X_uni_bigrams_train = ngram_vect.fit_transform(X_train['cleaned_transcription'])\n",
    "X_uni_bigrams_val = ngram_vect.transform(X_val['cleaned_transcription'])\n",
    "X_uni_bigrams_test = ngram_vect.transform(X_test['cleaned_transcription'])\n",
    "\n",
    "print(X_uni_bigrams_train.shape)\n",
    "print(X_uni_bigrams_train.shape)\n",
    "print(X_uni_bigrams_train.shape)"
   ]
  },
  {
   "cell_type": "code",
   "execution_count": 53,
   "metadata": {
    "colab": {
     "base_uri": "https://localhost:8080/"
    },
    "executionInfo": {
     "elapsed": 3285,
     "status": "ok",
     "timestamp": 1702214486884,
     "user": {
      "displayName": "Liew Man Ting",
      "userId": "07590673243961657612"
     },
     "user_tz": -480
    },
    "id": "-LEo6TO8078O",
    "outputId": "60cd38b4-c7d5-4b29-9788-5ce5316de369"
   },
   "outputs": [
    {
     "name": "stdout",
     "output_type": "stream",
     "text": [
      "(2611, 234717)\n",
      "(2611, 234717)\n",
      "(2611, 234717)\n"
     ]
    }
   ],
   "source": [
    "ngram_vect = CountVectorizer(ngram_range=(2, 2))\n",
    "\n",
    "X_bigrams_train = ngram_vect.fit_transform(X_train['cleaned_transcription'])\n",
    "X_bigrams_val = ngram_vect.transform(X_val['cleaned_transcription'])\n",
    "X_bigrams_test = ngram_vect.transform(X_test['cleaned_transcription'])\n",
    "\n",
    "print(X_bigrams_train.shape)\n",
    "print(X_bigrams_train.shape)\n",
    "print(X_bigrams_train.shape)\n",
    "# print(ngram_vect.get_feature_names_out())"
   ]
  },
  {
   "cell_type": "code",
   "execution_count": 54,
   "metadata": {},
   "outputs": [
    {
     "name": "stdout",
     "output_type": "stream",
     "text": [
      "(2611, 574798)\n",
      "(870, 574798)\n",
      "(871, 574798)\n"
     ]
    }
   ],
   "source": [
    "ngram_vect = CountVectorizer(ngram_range=(2, 3))\n",
    "\n",
    "X_bi_trigrams_train = ngram_vect.fit_transform(X_train['cleaned_transcription'])\n",
    "X_bi_trigrams_val = ngram_vect.transform(X_val['cleaned_transcription'])\n",
    "X_bi_trigrams_test = ngram_vect.transform(X_test['cleaned_transcription'])\n",
    "\n",
    "print(X_bi_trigrams_train.shape)\n",
    "print(X_bi_trigrams_val.shape)\n",
    "print(X_bi_trigrams_test.shape)"
   ]
  },
  {
   "cell_type": "code",
   "execution_count": 55,
   "metadata": {},
   "outputs": [
    {
     "name": "stdout",
     "output_type": "stream",
     "text": [
      "(2611, 340081)\n",
      "(870, 340081)\n",
      "(871, 340081)\n"
     ]
    }
   ],
   "source": [
    "ngram_vect = CountVectorizer(ngram_range=(3, 3))\n",
    "\n",
    "X_trigrams_train = ngram_vect.fit_transform(X_train['cleaned_transcription'])\n",
    "X_trigrams_val = ngram_vect.transform(X_val['cleaned_transcription'])\n",
    "X_trigrams_test = ngram_vect.transform(X_test['cleaned_transcription'])\n",
    "\n",
    "print(X_trigrams_train.shape)\n",
    "print(X_trigrams_val.shape)\n",
    "print(X_trigrams_test.shape)"
   ]
  },
  {
   "cell_type": "markdown",
   "metadata": {
    "id": "WR9xM8Z8zChe"
   },
   "source": [
    ">**TF-IDF**"
   ]
  },
  {
   "cell_type": "code",
   "execution_count": 56,
   "metadata": {
    "colab": {
     "base_uri": "https://localhost:8080/"
    },
    "executionInfo": {
     "elapsed": 6993,
     "status": "ok",
     "timestamp": 1702214885968,
     "user": {
      "displayName": "Liew Man Ting",
      "userId": "07590673243961657612"
     },
     "user_tz": -480
    },
    "id": "MEjcIZLBwy0t",
    "outputId": "e3b177e5-b064-40b7-9b29-a272f77070a2"
   },
   "outputs": [
    {
     "name": "stdout",
     "output_type": "stream",
     "text": [
      "(2611, 43)\n",
      "(870, 43)\n",
      "(871, 43)\n"
     ]
    }
   ],
   "source": [
    "from sklearn.feature_extraction.text import TfidfVectorizer\n",
    "\n",
    "tfidf_vect = TfidfVectorizer(analyzer=clean_text)\n",
    "\n",
    "X_tfidf_train = tfidf_vect.fit_transform(X_train['transcription'])\n",
    "X_tfidf_val = tfidf_vect.transform(X_val['transcription'])\n",
    "X_tfidf_test = tfidf_vect.transform(X_test['transcription'])\n",
    "\n",
    "print(X_tfidf_train.shape)\n",
    "print(X_tfidf_val.shape)\n",
    "print(X_tfidf_test.shape)\n",
    "# print(tfidf_vect.get_feature_names_out())"
   ]
  },
  {
   "cell_type": "markdown",
   "metadata": {},
   "source": [
    "## <font color= grey>Next Step: Text Classification Model Training"
   ]
  },
  {
   "cell_type": "markdown",
   "metadata": {},
   "source": [
    "After we are done with the data preparation, we are going to write out the training, validation and test set for all three different text representation so that we can perform text classification model training at a different notebook."
   ]
  },
  {
   "cell_type": "code",
   "execution_count": 39,
   "metadata": {},
   "outputs": [
    {
     "name": "stderr",
     "output_type": "stream",
     "text": [
      "\n",
      "KeyboardInterrupt\n",
      "\n"
     ]
    }
   ],
   "source": [
    "# # Save CountVectorizer output\n",
    "# df_count_train = pd.DataFrame(X_count_train.toarray())\n",
    "# df_count_val = pd.DataFrame(X_count_val.toarray())\n",
    "# df_count_test = pd.DataFrame(X_count_test.toarray())\n",
    "\n",
    "# df_count_train.to_csv('X_count_train.csv', index=False)\n",
    "# df_count_val.to_csv('X_count_val.csv', index=False)\n",
    "# df_count_test.to_csv('X_count_test.csv', index=False)\n",
    "\n",
    "# # Save n-gram (1, 2) output\n",
    "# df_uni_bigrams_train = pd.DataFrame(X_uni_bigrams_train.toarray())\n",
    "# df_uni_bigrams_val = pd.DataFrame(X_uni_bigrams_val.toarray())\n",
    "# df_uni_bigrams_test = pd.DataFrame(X_uni_bigrams_test.toarray())\n",
    "\n",
    "# df_uni_bigrams_train.to_csv('X_uni_bigrams_train.csv', index=False)\n",
    "# df_uni_bigrams_val.to_csv('X_uni_bigrams_val.csv', index=False)\n",
    "# df_uni_bigrams_test.to_csv('X_uni_bigrams_test.csv', index=False)\n",
    "\n",
    "# # Save n-gram (2, 2) output\n",
    "# df_bigrams_train = pd.DataFrame(X_bigrams_train.toarray())\n",
    "# df_bigrams_val = pd.DataFrame(X_bigrams_val.toarray())\n",
    "# df_bigrams_test = pd.DataFrame(X_bigrams_test.toarray())\n",
    "\n",
    "# df_bigrams_train.to_csv('X_bigrams_train.csv', index=False)\n",
    "# df_bigrams_val.to_csv('X_bigrams_val.csv', index=False)\n",
    "# df_bigrams_test.to_csv('X_bigrams_test.csv', index=False)\n",
    "\n",
    "# # Save n-gram (2, 3) output\n",
    "# df_bi_trigrams_train = pd.DataFrame(X_bi_trigrams_train.toarray())\n",
    "# df_bi_trigrams_val = pd.DataFrame(X_bi_trigrams_val.toarray())\n",
    "# df_bi_trigrams_test = pd.DataFrame(X_bi_trigrams_test.toarray())\n",
    "\n",
    "# df_bi_trigrams_train.to_csv('X_bi_trigrams_train.csv', index=False)\n",
    "# df_bi_trigrams_val.to_csv('X_bi_trigrams_val.csv', index=False)\n",
    "# df_bi_trigrams_test.to_csv('X_bi_trigrams_test.csv', index=False)\n",
    "\n",
    "# # Save n-gram (3, 3) output\n",
    "# df_trigrams_train = pd.DataFrame(X_trigrams_train.toarray())\n",
    "# df_trigrams_val = pd.DataFrame(X_trigrams_val.toarray())\n",
    "# df_trigrams_test = pd.DataFrame(X_trigrams_test.toarray())\n",
    "\n",
    "# df_trigrams_train.to_csv('X_trigrams_train.csv', index=False)\n",
    "# df_trigrams_val.to_csv('X_trigrams_val.csv', index=False)\n",
    "# df_trigrams_test.to_csv('X_trigrams_test.csv', index=False)\n",
    "\n",
    "# # Save TF-IDF output\n",
    "# df_tfidf_train = pd.DataFrame(X_tfidf_train.toarray())\n",
    "# df_tfidf_val = pd.DataFrame(X_tfidf_val.toarray())\n",
    "# df_tfidf_test = pd.DataFrame(X_tfidf_test.toarray())\n",
    "\n",
    "# df_tfidf_train.to_csv('X_tfidf_train.csv', index=False)\n",
    "# df_tfidf_val.to_csv('X_tfidf_val.csv', index=False)\n",
    "# df_tfidf_test.to_csv('X_tfidf_test.csv', index=False)\n"
   ]
  },
  {
   "cell_type": "markdown",
   "metadata": {},
   "source": [
    "## <font color= grey>Get the Datasets"
   ]
  },
  {
   "cell_type": "code",
   "execution_count": null,
   "metadata": {},
   "outputs": [],
   "source": [
    "# # Read CountVectorizer output\n",
    "# df_count_train = pd.read_csv('X_count_train.csv')\n",
    "# df_count_val = pd.read_csv('X_count_val.csv')\n",
    "# df_count_test = pd.read_csv('X_count_test.csv')\n",
    "\n",
    "# # Read n-gram (1, 2) output\n",
    "# df_uni_bigrams_train = pd.read_csv('X_uni_bigrams_train.csv')\n",
    "# df_uni_bigrams_val = pd.read_csv('X_uni_bigrams_val.csv')\n",
    "# df_uni_bigrams_test = pd.read_csv('X_uni_bigrams_test.csv')\n",
    "\n",
    "# # Read n-gram (2, 2) output\n",
    "# df_bigrams_train = pd.read_csv('X_bigrams_train.csv')\n",
    "# df_bigrams_val = pd.read_csv('X_bigrams_val.csv')\n",
    "# df_bigrams_test = pd.read_csv('X_bigrams_test.csv')\n",
    "\n",
    "# # Read n-gram (2, 3) output\n",
    "# df_bi_trigrams_train = pd.read_csv('X_bi_trigrams_train.csv')\n",
    "# df_bi_trigrams_val = pd.read_csv('X_bi_trigrams_val.csv')\n",
    "# df_bi_trigrams_test = pd.read_csv('X_bi_trigrams_test.csv')\n",
    "\n",
    "# # Read n-gram (3, 3) output\n",
    "# df_trigrams_train = pd.read_csv('X_trigrams_train.csv')\n",
    "# df_trigrams_val = pd.read_csv('X_trigrams_val.csv')\n",
    "# df_trigrams_test = pd.read_csv('X_trigrams_test.csv')\n",
    "\n",
    "# # Read TF-IDF output\n",
    "# df_tfidf_train = pd.read_csv('X_tfidf_train.csv')\n",
    "# df_tfidf_val = pd.read_csv('X_tfidf_val.csv')\n",
    "# df_tfidf_test = pd.read_csv('X_tfidf_test.csv')"
   ]
  },
  {
   "cell_type": "code",
   "execution_count": null,
   "metadata": {},
   "outputs": [],
   "source": [
    "df_count_train.head()"
   ]
  },
  {
   "cell_type": "markdown",
   "metadata": {
    "id": "8-cYKA0f1jmc"
   },
   "source": [
    "## <font color= grey>Test Classifier Algorithmn"
   ]
  },
  {
   "cell_type": "markdown",
   "metadata": {
    "id": "2c7X5X8oob2u"
   },
   "source": [
    "There are multiple text classifier algorithmn used for NLP. However, the most common one includes:\n",
    "1. Naive Bayes\n",
    "2. Support Vector Machine (SVM)\n",
    "3. Logistic Regression\n",
    "4. Random Forest\n",
    "5. Decision Tree"
   ]
  },
  {
   "cell_type": "markdown",
   "metadata": {
    "id": "XFkRzhqC4ydM"
   },
   "source": [
    ">**1. Naive Bayes**"
   ]
  },
  {
   "cell_type": "code",
   "execution_count": 61,
   "metadata": {
    "scrolled": false
   },
   "outputs": [
    {
     "name": "stdout",
     "output_type": "stream",
     "text": [
      "Classification Report for Count Vectorization (Validation Set):\n",
      "                             precision    recall  f1-score   support\n",
      "\n",
      " Cardiovascular / Pulmonary       0.55      0.37      0.44       226\n",
      " Consult - History and Phy.       0.66      0.85      0.74       222\n",
      "                 Orthopedic       0.60      0.45      0.51       197\n",
      "                    Surgery       0.54      0.68      0.60       225\n",
      "\n",
      "                   accuracy                           0.59       870\n",
      "                  macro avg       0.59      0.59      0.58       870\n",
      "               weighted avg       0.59      0.59      0.58       870\n",
      "\n",
      "Classification Report for Count Vectorization (Test Set):\n",
      "                             precision    recall  f1-score   support\n",
      "\n",
      " Cardiovascular / Pulmonary       0.60      0.39      0.47       215\n",
      " Consult - History and Phy.       0.66      0.82      0.73       222\n",
      "                 Orthopedic       0.53      0.36      0.43       212\n",
      "                    Surgery       0.49      0.69      0.57       222\n",
      "\n",
      "                   accuracy                           0.57       871\n",
      "                  macro avg       0.57      0.56      0.55       871\n",
      "               weighted avg       0.57      0.57      0.55       871\n",
      "\n",
      "Classification Report for Uni-Bigrams (Validation Set):\n",
      "                             precision    recall  f1-score   support\n",
      "\n",
      " Cardiovascular / Pulmonary       0.77      0.75      0.76       226\n",
      " Consult - History and Phy.       0.78      0.91      0.84       222\n",
      "                 Orthopedic       0.77      0.85      0.80       197\n",
      "                    Surgery       0.83      0.63      0.72       225\n",
      "\n",
      "                   accuracy                           0.78       870\n",
      "                  macro avg       0.79      0.79      0.78       870\n",
      "               weighted avg       0.79      0.78      0.78       870\n",
      "\n",
      "Classification Report for Uni-Bigrams (Test Set):\n",
      "                             precision    recall  f1-score   support\n",
      "\n",
      " Cardiovascular / Pulmonary       0.77      0.75      0.76       215\n",
      " Consult - History and Phy.       0.81      0.91      0.86       222\n",
      "                 Orthopedic       0.75      0.88      0.81       212\n",
      "                    Surgery       0.81      0.60      0.69       222\n",
      "\n",
      "                   accuracy                           0.79       871\n",
      "                  macro avg       0.79      0.79      0.78       871\n",
      "               weighted avg       0.79      0.79      0.78       871\n",
      "\n",
      "Classification Report for Bigrams (Validation Set):\n",
      "                             precision    recall  f1-score   support\n",
      "\n",
      " Cardiovascular / Pulmonary       0.77      0.78      0.78       226\n",
      " Consult - History and Phy.       0.81      0.90      0.85       222\n",
      "                 Orthopedic       0.76      0.86      0.80       197\n",
      "                    Surgery       0.83      0.64      0.72       225\n",
      "\n",
      "                   accuracy                           0.79       870\n",
      "                  macro avg       0.79      0.79      0.79       870\n",
      "               weighted avg       0.79      0.79      0.79       870\n",
      "\n",
      "Classification Report for Bigrams (Test Set):\n",
      "                             precision    recall  f1-score   support\n",
      "\n",
      " Cardiovascular / Pulmonary       0.77      0.76      0.76       215\n",
      " Consult - History and Phy.       0.84      0.89      0.87       222\n",
      "                 Orthopedic       0.75      0.90      0.82       212\n",
      "                    Surgery       0.79      0.60      0.68       222\n",
      "\n",
      "                   accuracy                           0.79       871\n",
      "                  macro avg       0.79      0.79      0.78       871\n",
      "               weighted avg       0.79      0.79      0.78       871\n",
      "\n",
      "Classification Report for Bi-Trigrams (Validation Set):\n",
      "                             precision    recall  f1-score   support\n",
      "\n",
      " Cardiovascular / Pulmonary       0.78      0.80      0.79       226\n",
      " Consult - History and Phy.       0.81      0.89      0.85       222\n",
      "                 Orthopedic       0.75      0.84      0.79       197\n",
      "                    Surgery       0.82      0.63      0.71       225\n",
      "\n",
      "                   accuracy                           0.79       870\n",
      "                  macro avg       0.79      0.79      0.79       870\n",
      "               weighted avg       0.79      0.79      0.79       870\n",
      "\n",
      "Classification Report for Bi-Trigrams (Test Set):\n",
      "                             precision    recall  f1-score   support\n",
      "\n",
      " Cardiovascular / Pulmonary       0.76      0.78      0.77       215\n",
      " Consult - History and Phy.       0.85      0.87      0.86       222\n",
      "                 Orthopedic       0.74      0.88      0.81       212\n",
      "                    Surgery       0.77      0.60      0.68       222\n",
      "\n",
      "                   accuracy                           0.78       871\n",
      "                  macro avg       0.78      0.78      0.78       871\n",
      "               weighted avg       0.78      0.78      0.78       871\n",
      "\n",
      "Classification Report for Trigrams (Validation Set):\n",
      "                             precision    recall  f1-score   support\n",
      "\n",
      " Cardiovascular / Pulmonary       0.77      0.82      0.80       226\n",
      " Consult - History and Phy.       0.83      0.87      0.85       222\n",
      "                 Orthopedic       0.75      0.82      0.78       197\n",
      "                    Surgery       0.81      0.64      0.71       225\n",
      "\n",
      "                   accuracy                           0.79       870\n",
      "                  macro avg       0.79      0.79      0.78       870\n",
      "               weighted avg       0.79      0.79      0.78       870\n",
      "\n",
      "Classification Report for Trigrams (Test Set):\n",
      "                             precision    recall  f1-score   support\n",
      "\n",
      " Cardiovascular / Pulmonary       0.76      0.81      0.79       215\n",
      " Consult - History and Phy.       0.86      0.86      0.86       222\n",
      "                 Orthopedic       0.74      0.86      0.80       212\n",
      "                    Surgery       0.77      0.60      0.68       222\n",
      "\n",
      "                   accuracy                           0.78       871\n",
      "                  macro avg       0.78      0.78      0.78       871\n",
      "               weighted avg       0.78      0.78      0.78       871\n",
      "\n",
      "Classification Report for TF-IDF (Validation Set):\n",
      "                             precision    recall  f1-score   support\n",
      "\n",
      " Cardiovascular / Pulmonary       0.38      0.03      0.05       226\n",
      " Consult - History and Phy.       0.64      0.07      0.13       222\n",
      "                 Orthopedic       0.23      0.98      0.38       197\n",
      "                    Surgery       1.00      0.00      0.01       225\n",
      "\n",
      "                   accuracy                           0.25       870\n",
      "                  macro avg       0.56      0.27      0.14       870\n",
      "               weighted avg       0.57      0.25      0.13       870\n",
      "\n",
      "Classification Report for TF-IDF (Test Set):\n",
      "                             precision    recall  f1-score   support\n",
      "\n",
      " Cardiovascular / Pulmonary       0.62      0.04      0.07       215\n",
      " Consult - History and Phy.       0.62      0.08      0.14       222\n",
      "                 Orthopedic       0.25      0.99      0.40       212\n",
      "                    Surgery       1.00      0.00      0.00       222\n",
      "\n",
      "                   accuracy                           0.27       871\n",
      "                  macro avg       0.62      0.28      0.15       871\n",
      "               weighted avg       0.63      0.27      0.15       871\n",
      "\n"
     ]
    }
   ],
   "source": [
    "from sklearn.metrics import precision_recall_fscore_support\n",
    "# Train and evaluate Naive Bayes with CountVectorizer\n",
    "def train_and_evaluate_nb(X_train, y_train, X_val, y_val, X_test, y_test, text_representation):\n",
    "    # Initialize Naive Bayes model\n",
    "    model = MultinomialNB()\n",
    "\n",
    "    # Train the model\n",
    "    model.fit(X_train, y_train)\n",
    "\n",
    "    # Predictions on validation set\n",
    "    y_val_pred = model.predict(X_val)\n",
    "\n",
    "    # Print classification report for validation set\n",
    "    print(f\"Classification Report for {text_representation} (Validation Set):\")\n",
    "    print(classification_report(y_val, y_val_pred, zero_division=1))\n",
    "\n",
    "    # Predictions on test set\n",
    "    y_test_pred = model.predict(X_test)\n",
    "\n",
    "    # Print classification report for test set\n",
    "    print(f\"Classification Report for {text_representation} (Test Set):\")\n",
    "    print(classification_report(y_test, y_test_pred, zero_division=1))\n",
    "\n",
    "# Train and evaluate Naive Bayes with CountVectorizer\n",
    "train_and_evaluate_nb(X_count_train, y_train, X_count_val, y_val, X_count_test, y_test, \"Count Vectorization\")\n",
    "\n",
    "# Train and evaluate Naive Bayes with n-gram (1, 2)\n",
    "train_and_evaluate_nb(X_uni_bigrams_train, y_train, X_uni_bigrams_val, y_val, X_uni_bigrams_test, y_test, \"Uni-Bigrams\")\n",
    "\n",
    "# Train and evaluate Naive Bayes with n-gram (2, 2)\n",
    "train_and_evaluate_nb(X_bigrams_train, y_train, X_bigrams_val, y_val, X_bigrams_test, y_test, \"Bigrams\")\n",
    "\n",
    "# Train and evaluate Naive Bayes with n-gram (2, 3)\n",
    "train_and_evaluate_nb(X_bi_trigrams_train, y_train, X_bi_trigrams_val, y_val, X_bi_trigrams_test, y_test, \"Bi-Trigrams\")\n",
    "\n",
    "# Train and evaluate Naive Bayes with n-gram (3, 3)\n",
    "train_and_evaluate_nb(X_trigrams_train, y_train, X_trigrams_val, y_val, X_trigrams_test, y_test, \"Trigrams\")\n",
    "\n",
    "# Train and evaluate Naive Bayes with TfidfVectorizer\n",
    "train_and_evaluate_nb(X_tfidf_train, y_train, X_tfidf_val, y_val, X_tfidf_test, y_test, \"TF-IDF\")"
   ]
  },
  {
   "cell_type": "code",
   "execution_count": 38,
   "metadata": {
    "colab": {
     "base_uri": "https://localhost:8080/"
    },
    "executionInfo": {
     "elapsed": 533,
     "status": "ok",
     "timestamp": 1702214498979,
     "user": {
      "displayName": "Liew Man Ting",
      "userId": "07590673243961657612"
     },
     "user_tz": -480
    },
    "id": "zpG8p0yQ4-nL",
    "outputId": "7caff971-ca2d-444f-d11a-0acbafeb9da2"
   },
   "outputs": [
    {
     "name": "stdout",
     "output_type": "stream",
     "text": [
      "Classification Report for Count Vectorization (Validation Set):\n",
      "                             precision    recall  f1-score   support\n",
      "\n",
      " Cardiovascular / Pulmonary       0.56      0.46      0.50       204\n",
      " Consult - History and Phy.       0.59      0.57      0.58       208\n",
      "           General Medicine       0.65      0.88      0.75       218\n",
      "                 Orthopedic       0.66      0.73      0.69       203\n",
      "                  Radiology       0.76      0.76      0.76       223\n",
      "                    Surgery       0.80      0.62      0.70       250\n",
      "\n",
      "                   accuracy                           0.67      1306\n",
      "                  macro avg       0.67      0.67      0.66      1306\n",
      "               weighted avg       0.68      0.67      0.67      1306\n",
      "\n",
      "Classification Report for Count Vectorization (Test Set):\n",
      "                             precision    recall  f1-score   support\n",
      "\n",
      " Cardiovascular / Pulmonary       0.67      0.59      0.63       235\n",
      " Consult - History and Phy.       0.62      0.62      0.62       222\n",
      "           General Medicine       0.68      0.87      0.76       216\n",
      "                 Orthopedic       0.68      0.71      0.69       212\n",
      "                  Radiology       0.74      0.73      0.74       203\n",
      "                    Surgery       0.75      0.62      0.68       218\n",
      "\n",
      "                   accuracy                           0.69      1306\n",
      "                  macro avg       0.69      0.69      0.69      1306\n",
      "               weighted avg       0.69      0.69      0.69      1306\n",
      "\n",
      "Classification Report for N-grams (Validation Set):\n",
      "                             precision    recall  f1-score   support\n",
      "\n",
      " Cardiovascular / Pulmonary       0.56      0.46      0.50       204\n",
      " Consult - History and Phy.       0.59      0.57      0.58       208\n",
      "           General Medicine       0.65      0.88      0.75       218\n",
      "                 Orthopedic       0.66      0.73      0.69       203\n",
      "                  Radiology       0.76      0.76      0.76       223\n",
      "                    Surgery       0.80      0.62      0.70       250\n",
      "\n",
      "                   accuracy                           0.67      1306\n",
      "                  macro avg       0.67      0.67      0.66      1306\n",
      "               weighted avg       0.68      0.67      0.67      1306\n",
      "\n",
      "Classification Report for N-grams (Test Set):\n",
      "                             precision    recall  f1-score   support\n",
      "\n",
      " Cardiovascular / Pulmonary       0.67      0.59      0.63       235\n",
      " Consult - History and Phy.       0.62      0.62      0.62       222\n",
      "           General Medicine       0.68      0.87      0.76       216\n",
      "                 Orthopedic       0.68      0.71      0.69       212\n",
      "                  Radiology       0.74      0.73      0.74       203\n",
      "                    Surgery       0.75      0.62      0.68       218\n",
      "\n",
      "                   accuracy                           0.69      1306\n",
      "                  macro avg       0.69      0.69      0.69      1306\n",
      "               weighted avg       0.69      0.69      0.69      1306\n",
      "\n",
      "Classification Report for TF-IDF (Validation Set):\n",
      "                             precision    recall  f1-score   support\n",
      "\n",
      " Cardiovascular / Pulmonary       0.58      0.49      0.53       204\n",
      " Consult - History and Phy.       0.58      0.58      0.58       208\n",
      "           General Medicine       0.64      0.86      0.73       218\n",
      "                 Orthopedic       0.61      0.79      0.69       203\n",
      "                  Radiology       0.77      0.64      0.70       223\n",
      "                    Surgery       0.83      0.62      0.71       250\n",
      "\n",
      "                   accuracy                           0.66      1306\n",
      "                  macro avg       0.67      0.66      0.66      1306\n",
      "               weighted avg       0.67      0.66      0.66      1306\n",
      "\n",
      "Classification Report for TF-IDF (Test Set):\n",
      "                             precision    recall  f1-score   support\n",
      "\n",
      " Cardiovascular / Pulmonary       0.64      0.58      0.61       235\n",
      " Consult - History and Phy.       0.57      0.60      0.59       222\n",
      "           General Medicine       0.65      0.82      0.73       216\n",
      "                 Orthopedic       0.66      0.77      0.71       212\n",
      "                  Radiology       0.76      0.64      0.70       203\n",
      "                    Surgery       0.79      0.61      0.69       218\n",
      "\n",
      "                   accuracy                           0.67      1306\n",
      "                  macro avg       0.68      0.67      0.67      1306\n",
      "               weighted avg       0.68      0.67      0.67      1306\n",
      "\n"
     ]
    }
   ],
   "source": [
    "def train_and_evaluate_nb(X_train, y_train, X_val, y_val, X_test, y_test, text_representation):\n",
    "    # Initialize Naive Bayes model\n",
    "    model = MultinomialNB()\n",
    "\n",
    "    # Train the model\n",
    "    model.fit(X_train, y_train)\n",
    "\n",
    "    # Predictions on validation set\n",
    "    y_val_pred = model.predict(X_val)\n",
    "\n",
    "    # Print classification report for validation set\n",
    "    print(f\"Classification Report for {text_representation} (Validation Set):\")\n",
    "    print(classification_report(y_val, y_val_pred))\n",
    "\n",
    "    # Predictions on test set\n",
    "    y_test_pred = model.predict(X_test)\n",
    "\n",
    "    # Print classification report for test set\n",
    "    print(f\"Classification Report for {text_representation} (Test Set):\")\n",
    "    print(classification_report(y_test, y_test_pred))\n",
    "\n",
    "# Example usage for Naive Bayes\n",
    "train_and_evaluate_nb(X_count_train, y_train, X_count_val, y_val, X_count_test, y_test, \"Count Vectorization\")\n",
    "train_and_evaluate_nb(X_grams_train, y_train, X_grams_val, y_val, X_grams_test, y_test, \"N-grams\")\n",
    "train_and_evaluate_nb(X_tfidf_train, y_train, X_tfidf_val, y_val, X_tfidf_test, y_test, \"TF-IDF\")"
   ]
  },
  {
   "cell_type": "markdown",
   "metadata": {
    "id": "96wg89nj5Alp"
   },
   "source": [
    ">**2. Support Vector Machine (SVM)**"
   ]
  },
  {
   "cell_type": "code",
   "execution_count": 62,
   "metadata": {
    "scrolled": false
   },
   "outputs": [
    {
     "name": "stdout",
     "output_type": "stream",
     "text": [
      "Classification Report for Count Vectorization - SVM (Validation Set):\n",
      "                             precision    recall  f1-score   support\n",
      "\n",
      " Cardiovascular / Pulmonary       0.42      0.49      0.45       226\n",
      " Consult - History and Phy.       0.65      0.79      0.71       222\n",
      "                 Orthopedic       0.46      0.29      0.36       197\n",
      "                    Surgery       0.54      0.51      0.52       225\n",
      "\n",
      "                   accuracy                           0.53       870\n",
      "                  macro avg       0.52      0.52      0.51       870\n",
      "               weighted avg       0.52      0.53      0.52       870\n",
      "\n",
      "Classification Report for Count Vectorization - SVM (Test Set):\n",
      "                             precision    recall  f1-score   support\n",
      "\n",
      " Cardiovascular / Pulmonary       0.45      0.55      0.49       215\n",
      " Consult - History and Phy.       0.70      0.79      0.74       222\n",
      "                 Orthopedic       0.53      0.35      0.42       212\n",
      "                    Surgery       0.53      0.51      0.52       222\n",
      "\n",
      "                   accuracy                           0.55       871\n",
      "                  macro avg       0.55      0.55      0.54       871\n",
      "               weighted avg       0.55      0.55      0.54       871\n",
      "\n",
      "Classification Report for TF-IDF - SVM (Validation Set):\n",
      "                             precision    recall  f1-score   support\n",
      "\n",
      " Cardiovascular / Pulmonary       0.58      0.40      0.47       226\n",
      " Consult - History and Phy.       0.67      0.88      0.76       222\n",
      "                 Orthopedic       0.57      0.37      0.45       197\n",
      "                    Surgery       0.55      0.73      0.63       225\n",
      "\n",
      "                   accuracy                           0.60       870\n",
      "                  macro avg       0.59      0.59      0.58       870\n",
      "               weighted avg       0.59      0.60      0.58       870\n",
      "\n",
      "Classification Report for TF-IDF - SVM (Test Set):\n",
      "                             precision    recall  f1-score   support\n",
      "\n",
      " Cardiovascular / Pulmonary       0.62      0.39      0.48       215\n",
      " Consult - History and Phy.       0.67      0.88      0.76       222\n",
      "                 Orthopedic       0.51      0.29      0.37       212\n",
      "                    Surgery       0.52      0.75      0.61       222\n",
      "\n",
      "                   accuracy                           0.58       871\n",
      "                  macro avg       0.58      0.58      0.56       871\n",
      "               weighted avg       0.58      0.58      0.56       871\n",
      "\n",
      "Classification Report for Uni-Bigrams - SVM (Validation Set):\n",
      "                             precision    recall  f1-score   support\n",
      "\n",
      " Cardiovascular / Pulmonary       0.74      0.78      0.76       226\n",
      " Consult - History and Phy.       0.83      0.88      0.86       222\n",
      "                 Orthopedic       0.77      0.91      0.83       197\n",
      "                    Surgery       0.85      0.62      0.72       225\n",
      "\n",
      "                   accuracy                           0.79       870\n",
      "                  macro avg       0.80      0.80      0.79       870\n",
      "               weighted avg       0.80      0.79      0.79       870\n",
      "\n",
      "Classification Report for Uni-Bigrams - SVM (Test Set):\n",
      "                             precision    recall  f1-score   support\n",
      "\n",
      " Cardiovascular / Pulmonary       0.75      0.78      0.76       215\n",
      " Consult - History and Phy.       0.84      0.85      0.85       222\n",
      "                 Orthopedic       0.75      0.92      0.83       212\n",
      "                    Surgery       0.82      0.61      0.70       222\n",
      "\n",
      "                   accuracy                           0.79       871\n",
      "                  macro avg       0.79      0.79      0.78       871\n",
      "               weighted avg       0.79      0.79      0.78       871\n",
      "\n",
      "Classification Report for Bigrams - SVM (Validation Set):\n",
      "                             precision    recall  f1-score   support\n",
      "\n",
      " Cardiovascular / Pulmonary       0.71      0.74      0.73       226\n",
      " Consult - History and Phy.       0.81      0.86      0.84       222\n",
      "                 Orthopedic       0.75      0.78      0.76       197\n",
      "                    Surgery       0.74      0.63      0.68       225\n",
      "\n",
      "                   accuracy                           0.75       870\n",
      "                  macro avg       0.75      0.75      0.75       870\n",
      "               weighted avg       0.75      0.75      0.75       870\n",
      "\n",
      "Classification Report for Bigrams - SVM (Test Set):\n",
      "                             precision    recall  f1-score   support\n",
      "\n",
      " Cardiovascular / Pulmonary       0.71      0.73      0.72       215\n",
      " Consult - History and Phy.       0.85      0.86      0.85       222\n",
      "                 Orthopedic       0.74      0.81      0.78       212\n",
      "                    Surgery       0.69      0.60      0.64       222\n",
      "\n",
      "                   accuracy                           0.75       871\n",
      "                  macro avg       0.75      0.75      0.75       871\n",
      "               weighted avg       0.75      0.75      0.75       871\n",
      "\n",
      "Classification Report for Bi-Trigrams - SVM (Validation Set):\n",
      "                             precision    recall  f1-score   support\n",
      "\n",
      " Cardiovascular / Pulmonary       0.67      0.73      0.70       226\n",
      " Consult - History and Phy.       0.80      0.85      0.83       222\n",
      "                 Orthopedic       0.74      0.73      0.74       197\n",
      "                    Surgery       0.70      0.61      0.65       225\n",
      "\n",
      "                   accuracy                           0.73       870\n",
      "                  macro avg       0.73      0.73      0.73       870\n",
      "               weighted avg       0.73      0.73      0.73       870\n",
      "\n",
      "Classification Report for Bi-Trigrams - SVM (Test Set):\n",
      "                             precision    recall  f1-score   support\n",
      "\n",
      " Cardiovascular / Pulmonary       0.68      0.71      0.70       215\n",
      " Consult - History and Phy.       0.84      0.83      0.84       222\n",
      "                 Orthopedic       0.74      0.78      0.76       212\n",
      "                    Surgery       0.65      0.59      0.62       222\n",
      "\n",
      "                   accuracy                           0.73       871\n",
      "                  macro avg       0.73      0.73      0.73       871\n",
      "               weighted avg       0.73      0.73      0.73       871\n",
      "\n",
      "Classification Report for Trigrams - SVM (Validation Set):\n",
      "                             precision    recall  f1-score   support\n",
      "\n",
      " Cardiovascular / Pulmonary       0.51      0.71      0.59       226\n",
      " Consult - History and Phy.       0.77      0.64      0.70       222\n",
      "                 Orthopedic       0.73      0.66      0.70       197\n",
      "                    Surgery       0.62      0.52      0.57       225\n",
      "\n",
      "                   accuracy                           0.63       870\n",
      "                  macro avg       0.66      0.64      0.64       870\n",
      "               weighted avg       0.65      0.63      0.64       870\n",
      "\n",
      "Classification Report for Trigrams - SVM (Test Set):\n",
      "                             precision    recall  f1-score   support\n",
      "\n",
      " Cardiovascular / Pulmonary       0.50      0.68      0.58       215\n",
      " Consult - History and Phy.       0.79      0.62      0.70       222\n",
      "                 Orthopedic       0.72      0.67      0.69       212\n",
      "                    Surgery       0.55      0.51      0.53       222\n",
      "\n",
      "                   accuracy                           0.62       871\n",
      "                  macro avg       0.64      0.62      0.62       871\n",
      "               weighted avg       0.64      0.62      0.62       871\n",
      "\n"
     ]
    }
   ],
   "source": [
    "# Train and evaluate SVM with CountVectorizer\n",
    "def train_and_evaluate_svm(X_train, y_train, X_val, y_val, X_test, y_test, text_representation):\n",
    "    # Initialize SVM model\n",
    "    model = SVC(class_weight='balanced')\n",
    "\n",
    "    # Train the model\n",
    "    model.fit(X_train, y_train)\n",
    "\n",
    "    # Predictions on validation set\n",
    "    y_val_pred = model.predict(X_val)\n",
    "\n",
    "    # Print classification report for validation set\n",
    "    print(f\"Classification Report for {text_representation} (Validation Set):\")\n",
    "    print(classification_report(y_val, y_val_pred))\n",
    "\n",
    "    # Predictions on test set\n",
    "    y_test_pred = model.predict(X_test)\n",
    "\n",
    "    # Print classification report for test set\n",
    "    print(f\"Classification Report for {text_representation} (Test Set):\")\n",
    "    print(classification_report(y_test, y_test_pred))\n",
    "\n",
    "# Example usage for SVM with different feature representations\n",
    "train_and_evaluate_svm(X_count_train, y_train, X_count_val, y_val, X_count_test, y_test, \"Count Vectorization - SVM\")\n",
    "train_and_evaluate_svm(X_tfidf_train, y_train, X_tfidf_val, y_val, X_tfidf_test, y_test, \"TF-IDF - SVM\")\n",
    "train_and_evaluate_svm(X_uni_bigrams_train, y_train, X_uni_bigrams_val, y_val, X_uni_bigrams_test, y_test, \"Uni-Bigrams - SVM\")\n",
    "train_and_evaluate_svm(X_bigrams_train, y_train, X_bigrams_val, y_val, X_bigrams_test, y_test, \"Bigrams - SVM\")\n",
    "train_and_evaluate_svm(X_bi_trigrams_train, y_train, X_bi_trigrams_val, y_val, X_bi_trigrams_test, y_test, \"Bi-Trigrams - SVM\")\n",
    "train_and_evaluate_svm(X_trigrams_train, y_train, X_trigrams_val, y_val, X_trigrams_test, y_test, \"Trigrams - SVM\")"
   ]
  },
  {
   "cell_type": "code",
   "execution_count": 40,
   "metadata": {
    "colab": {
     "base_uri": "https://localhost:8080/"
    },
    "executionInfo": {
     "elapsed": 28124,
     "status": "ok",
     "timestamp": 1702214542181,
     "user": {
      "displayName": "Liew Man Ting",
      "userId": "07590673243961657612"
     },
     "user_tz": -480
    },
    "id": "8IaOLQub5BUS",
    "outputId": "1d1064ad-d44a-4e71-e1f0-d5e9020a0c47"
   },
   "outputs": [
    {
     "name": "stdout",
     "output_type": "stream",
     "text": [
      "Classification Report for Count Vectorization (Validation Set):\n",
      "                             precision    recall  f1-score   support\n",
      "\n",
      " Cardiovascular / Pulmonary       0.62      0.61      0.62       204\n",
      " Consult - History and Phy.       0.65      0.49      0.55       208\n",
      "           General Medicine       0.65      0.83      0.73       218\n",
      "                 Orthopedic       0.64      0.77      0.70       203\n",
      "                  Radiology       0.68      0.81      0.74       223\n",
      "                    Surgery       0.88      0.58      0.70       250\n",
      "\n",
      "                   accuracy                           0.68      1306\n",
      "                  macro avg       0.69      0.68      0.67      1306\n",
      "               weighted avg       0.70      0.68      0.68      1306\n",
      "\n",
      "Classification Report for Count Vectorization (Test Set):\n",
      "                             precision    recall  f1-score   support\n",
      "\n",
      " Cardiovascular / Pulmonary       0.68      0.70      0.69       235\n",
      " Consult - History and Phy.       0.65      0.55      0.59       222\n",
      "           General Medicine       0.73      0.79      0.76       216\n",
      "                 Orthopedic       0.66      0.73      0.70       212\n",
      "                  Radiology       0.66      0.80      0.72       203\n",
      "                    Surgery       0.81      0.61      0.69       218\n",
      "\n",
      "                   accuracy                           0.69      1306\n",
      "                  macro avg       0.70      0.70      0.69      1306\n",
      "               weighted avg       0.70      0.69      0.69      1306\n",
      "\n",
      "Classification Report for N-grams (Validation Set):\n",
      "                             precision    recall  f1-score   support\n",
      "\n",
      " Cardiovascular / Pulmonary       0.62      0.61      0.62       204\n",
      " Consult - History and Phy.       0.65      0.49      0.55       208\n",
      "           General Medicine       0.65      0.83      0.73       218\n",
      "                 Orthopedic       0.64      0.77      0.70       203\n",
      "                  Radiology       0.68      0.81      0.74       223\n",
      "                    Surgery       0.88      0.58      0.70       250\n",
      "\n",
      "                   accuracy                           0.68      1306\n",
      "                  macro avg       0.69      0.68      0.67      1306\n",
      "               weighted avg       0.70      0.68      0.68      1306\n",
      "\n",
      "Classification Report for N-grams (Test Set):\n",
      "                             precision    recall  f1-score   support\n",
      "\n",
      " Cardiovascular / Pulmonary       0.68      0.70      0.69       235\n",
      " Consult - History and Phy.       0.65      0.55      0.59       222\n",
      "           General Medicine       0.73      0.79      0.76       216\n",
      "                 Orthopedic       0.66      0.73      0.70       212\n",
      "                  Radiology       0.66      0.80      0.72       203\n",
      "                    Surgery       0.81      0.61      0.69       218\n",
      "\n",
      "                   accuracy                           0.69      1306\n",
      "                  macro avg       0.70      0.70      0.69      1306\n",
      "               weighted avg       0.70      0.69      0.69      1306\n",
      "\n",
      "Classification Report for TF-IDF (Validation Set):\n",
      "                             precision    recall  f1-score   support\n",
      "\n",
      " Cardiovascular / Pulmonary       0.60      0.62      0.61       204\n",
      " Consult - History and Phy.       0.64      0.56      0.60       208\n",
      "           General Medicine       0.67      0.83      0.74       218\n",
      "                 Orthopedic       0.64      0.76      0.69       203\n",
      "                  Radiology       0.73      0.77      0.75       223\n",
      "                    Surgery       0.88      0.59      0.70       250\n",
      "\n",
      "                   accuracy                           0.69      1306\n",
      "                  macro avg       0.69      0.69      0.68      1306\n",
      "               weighted avg       0.70      0.69      0.68      1306\n",
      "\n",
      "Classification Report for TF-IDF (Test Set):\n",
      "                             precision    recall  f1-score   support\n",
      "\n",
      " Cardiovascular / Pulmonary       0.67      0.73      0.70       235\n",
      " Consult - History and Phy.       0.64      0.60      0.62       222\n",
      "           General Medicine       0.72      0.78      0.75       216\n",
      "                 Orthopedic       0.67      0.78      0.72       212\n",
      "                  Radiology       0.71      0.74      0.73       203\n",
      "                    Surgery       0.86      0.60      0.71       218\n",
      "\n",
      "                   accuracy                           0.70      1306\n",
      "                  macro avg       0.71      0.70      0.70      1306\n",
      "               weighted avg       0.71      0.70      0.70      1306\n",
      "\n"
     ]
    }
   ],
   "source": [
    "def train_and_evaluate_svm(X_train, y_train, X_val, y_val, X_test, y_test, text_representation):\n",
    "    # Initialize SVM model\n",
    "    model = SVC(class_weight='balanced')\n",
    "\n",
    "    # Train the model\n",
    "    model.fit(X_train, y_train)\n",
    "\n",
    "    # Predictions on validation set\n",
    "    y_val_pred = model.predict(X_val)\n",
    "\n",
    "    # Print classification report for validation set\n",
    "    print(f\"Classification Report for {text_representation} (Validation Set):\")\n",
    "    print(classification_report(y_val, y_val_pred))\n",
    "\n",
    "    # Predictions on test set\n",
    "    y_test_pred = model.predict(X_test)\n",
    "\n",
    "    # Print classification report for test set\n",
    "    print(f\"Classification Report for {text_representation} (Test Set):\")\n",
    "    print(classification_report(y_test, y_test_pred))\n",
    "\n",
    "# Example usage for SVM\n",
    "train_and_evaluate_svm(X_count_train, y_train, X_count_val, y_val, X_count_test, y_test, \"Count Vectorization\")\n",
    "train_and_evaluate_svm(X_grams_train, y_train, X_grams_val, y_val, X_grams_test, y_test, \"N-grams\")\n",
    "train_and_evaluate_svm(X_tfidf_train, y_train, X_tfidf_val, y_val, X_tfidf_test, y_test, \"TF-IDF\")"
   ]
  },
  {
   "cell_type": "markdown",
   "metadata": {
    "id": "EOTEnU4C1rkt"
   },
   "source": [
    ">**3. Logistic Regression**"
   ]
  },
  {
   "cell_type": "code",
   "execution_count": 63,
   "metadata": {
    "scrolled": false
   },
   "outputs": [
    {
     "name": "stdout",
     "output_type": "stream",
     "text": [
      "Classification Report for Count Vectorization - Logistic Regression (Validation Set):\n",
      "                             precision    recall  f1-score   support\n",
      "\n",
      " Cardiovascular / Pulmonary       0.52      0.51      0.52       226\n",
      " Consult - History and Phy.       0.73      0.77      0.75       222\n",
      "                 Orthopedic       0.58      0.54      0.56       197\n",
      "                    Surgery       0.59      0.60      0.60       225\n",
      "\n",
      "                   accuracy                           0.61       870\n",
      "                  macro avg       0.61      0.61      0.61       870\n",
      "               weighted avg       0.61      0.61      0.61       870\n",
      "\n",
      "Classification Report for Count Vectorization - Logistic Regression (Test Set):\n",
      "                             precision    recall  f1-score   support\n",
      "\n",
      " Cardiovascular / Pulmonary       0.54      0.49      0.51       215\n",
      " Consult - History and Phy.       0.73      0.77      0.75       222\n",
      "                 Orthopedic       0.51      0.47      0.49       212\n",
      "                    Surgery       0.52      0.58      0.55       222\n",
      "\n",
      "                   accuracy                           0.58       871\n",
      "                  macro avg       0.58      0.58      0.58       871\n",
      "               weighted avg       0.58      0.58      0.58       871\n",
      "\n",
      "Classification Report for TF-IDF - Logistic Regression (Validation Set):\n",
      "                             precision    recall  f1-score   support\n",
      "\n",
      " Cardiovascular / Pulmonary       0.58      0.42      0.48       226\n",
      " Consult - History and Phy.       0.66      0.89      0.76       222\n",
      "                 Orthopedic       0.53      0.37      0.43       197\n",
      "                    Surgery       0.55      0.67      0.60       225\n",
      "\n",
      "                   accuracy                           0.59       870\n",
      "                  macro avg       0.58      0.59      0.57       870\n",
      "               weighted avg       0.58      0.59      0.57       870\n",
      "\n",
      "Classification Report for TF-IDF - Logistic Regression (Test Set):\n",
      "                             precision    recall  f1-score   support\n",
      "\n",
      " Cardiovascular / Pulmonary       0.62      0.42      0.50       215\n",
      " Consult - History and Phy.       0.68      0.89      0.77       222\n",
      "                 Orthopedic       0.50      0.31      0.38       212\n",
      "                    Surgery       0.51      0.69      0.59       222\n",
      "\n",
      "                   accuracy                           0.58       871\n",
      "                  macro avg       0.58      0.58      0.56       871\n",
      "               weighted avg       0.58      0.58      0.56       871\n",
      "\n",
      "Classification Report for Uni-Bigrams - Logistic Regression (Validation Set):\n",
      "                             precision    recall  f1-score   support\n",
      "\n",
      " Cardiovascular / Pulmonary       0.75      0.70      0.72       226\n",
      " Consult - History and Phy.       0.82      0.90      0.85       222\n",
      "                 Orthopedic       0.74      0.74      0.74       197\n",
      "                    Surgery       0.66      0.64      0.65       225\n",
      "\n",
      "                   accuracy                           0.74       870\n",
      "                  macro avg       0.74      0.74      0.74       870\n",
      "               weighted avg       0.74      0.74      0.74       870\n",
      "\n",
      "Classification Report for Uni-Bigrams - Logistic Regression (Test Set):\n",
      "                             precision    recall  f1-score   support\n",
      "\n",
      " Cardiovascular / Pulmonary       0.74      0.68      0.71       215\n",
      " Consult - History and Phy.       0.83      0.88      0.86       222\n",
      "                 Orthopedic       0.71      0.68      0.70       212\n",
      "                    Surgery       0.58      0.61      0.60       222\n",
      "\n",
      "                   accuracy                           0.72       871\n",
      "                  macro avg       0.72      0.71      0.71       871\n",
      "               weighted avg       0.72      0.72      0.71       871\n",
      "\n",
      "Classification Report for Bigrams - Logistic Regression (Validation Set):\n",
      "                             precision    recall  f1-score   support\n",
      "\n",
      " Cardiovascular / Pulmonary       0.75      0.71      0.73       226\n",
      " Consult - History and Phy.       0.81      0.88      0.84       222\n",
      "                 Orthopedic       0.73      0.73      0.73       197\n",
      "                    Surgery       0.67      0.64      0.66       225\n",
      "\n",
      "                   accuracy                           0.74       870\n",
      "                  macro avg       0.74      0.74      0.74       870\n",
      "               weighted avg       0.74      0.74      0.74       870\n",
      "\n",
      "Classification Report for Bigrams - Logistic Regression (Test Set):\n",
      "                             precision    recall  f1-score   support\n",
      "\n",
      " Cardiovascular / Pulmonary       0.74      0.69      0.71       215\n",
      " Consult - History and Phy.       0.83      0.88      0.85       222\n",
      "                 Orthopedic       0.71      0.69      0.70       212\n",
      "                    Surgery       0.59      0.61      0.60       222\n",
      "\n",
      "                   accuracy                           0.72       871\n",
      "                  macro avg       0.72      0.72      0.72       871\n",
      "               weighted avg       0.72      0.72      0.72       871\n",
      "\n",
      "Classification Report for Bi-Trigrams - Logistic Regression (Validation Set):\n",
      "                             precision    recall  f1-score   support\n",
      "\n",
      " Cardiovascular / Pulmonary       0.75      0.68      0.71       226\n",
      " Consult - History and Phy.       0.81      0.88      0.84       222\n",
      "                 Orthopedic       0.71      0.73      0.72       197\n",
      "                    Surgery       0.65      0.64      0.64       225\n",
      "\n",
      "                   accuracy                           0.73       870\n",
      "                  macro avg       0.73      0.73      0.73       870\n",
      "               weighted avg       0.73      0.73      0.73       870\n",
      "\n",
      "Classification Report for Bi-Trigrams - Logistic Regression (Test Set):\n",
      "                             precision    recall  f1-score   support\n",
      "\n",
      " Cardiovascular / Pulmonary       0.73      0.67      0.70       215\n",
      " Consult - History and Phy.       0.83      0.88      0.85       222\n",
      "                 Orthopedic       0.71      0.69      0.70       212\n",
      "                    Surgery       0.58      0.60      0.59       222\n",
      "\n",
      "                   accuracy                           0.71       871\n",
      "                  macro avg       0.71      0.71      0.71       871\n",
      "               weighted avg       0.71      0.71      0.71       871\n",
      "\n",
      "Classification Report for Trigrams - Logistic Regression (Validation Set):\n",
      "                             precision    recall  f1-score   support\n",
      "\n",
      " Cardiovascular / Pulmonary       0.75      0.69      0.72       226\n",
      " Consult - History and Phy.       0.80      0.84      0.82       222\n",
      "                 Orthopedic       0.65      0.73      0.69       197\n",
      "                    Surgery       0.63      0.59      0.61       225\n",
      "\n",
      "                   accuracy                           0.71       870\n",
      "                  macro avg       0.71      0.71      0.71       870\n",
      "               weighted avg       0.71      0.71      0.71       870\n",
      "\n",
      "Classification Report for Trigrams - Logistic Regression (Test Set):\n",
      "                             precision    recall  f1-score   support\n",
      "\n",
      " Cardiovascular / Pulmonary       0.73      0.65      0.69       215\n",
      " Consult - History and Phy.       0.82      0.84      0.83       222\n",
      "                 Orthopedic       0.65      0.69      0.67       212\n",
      "                    Surgery       0.55      0.56      0.56       222\n",
      "\n",
      "                   accuracy                           0.69       871\n",
      "                  macro avg       0.69      0.69      0.69       871\n",
      "               weighted avg       0.69      0.69      0.69       871\n",
      "\n"
     ]
    }
   ],
   "source": [
    "# Train and evaluate Logistic Regression with CountVectorizer\n",
    "def train_and_evaluate_logistic_regression(X_train, y_train, X_val, y_val, X_test, y_test, text_representation):\n",
    "    # Initialize Logistic Regression model\n",
    "    model = LogisticRegression(class_weight='balanced', random_state=42, max_iter=1000, n_jobs=-1)\n",
    "    # Train the model\n",
    "    model.fit(X_train, y_train)\n",
    "    # Predictions on validation set\n",
    "    y_val_pred = model.predict(X_val)\n",
    "    # Print classification report for validation set\n",
    "    print(f\"Classification Report for {text_representation} (Validation Set):\")\n",
    "    print(classification_report(y_val, y_val_pred))\n",
    "\n",
    "    # Predictions on test set\n",
    "    y_test_pred = model.predict(X_test)\n",
    "\n",
    "    # Print classification report for test set\n",
    "    print(f\"Classification Report for {text_representation} (Test Set):\")\n",
    "    print(classification_report(y_test, y_test_pred))\n",
    "\n",
    "# Example usage for Logistic Regression with different feature representations\n",
    "train_and_evaluate_logistic_regression(X_count_train, y_train, X_count_val, y_val, X_count_test, y_test, \"Count Vectorization - Logistic Regression\")\n",
    "train_and_evaluate_logistic_regression(X_tfidf_train, y_train, X_tfidf_val, y_val, X_tfidf_test, y_test, \"TF-IDF - Logistic Regression\")\n",
    "train_and_evaluate_logistic_regression(X_uni_bigrams_train, y_train, X_uni_bigrams_val, y_val, X_uni_bigrams_test, y_test, \"Uni-Bigrams - Logistic Regression\")\n",
    "train_and_evaluate_logistic_regression(X_bigrams_train, y_train, X_bigrams_val, y_val, X_bigrams_test, y_test, \"Bigrams - Logistic Regression\")\n",
    "train_and_evaluate_logistic_regression(X_bi_trigrams_train, y_train, X_bi_trigrams_val, y_val, X_bi_trigrams_test, y_test, \"Bi-Trigrams - Logistic Regression\")\n",
    "train_and_evaluate_logistic_regression(X_trigrams_train, y_train, X_trigrams_val, y_val, X_trigrams_test, y_test, \"Trigrams - Logistic Regression\")"
   ]
  },
  {
   "cell_type": "code",
   "execution_count": 41,
   "metadata": {
    "colab": {
     "base_uri": "https://localhost:8080/"
    },
    "executionInfo": {
     "elapsed": 296525,
     "status": "ok",
     "timestamp": 1702214840044,
     "user": {
      "displayName": "Liew Man Ting",
      "userId": "07590673243961657612"
     },
     "user_tz": -480
    },
    "id": "vVAkNnZDyqBd",
    "outputId": "1aa45693-ebc1-4ccc-d98c-3fcb6bee6611"
   },
   "outputs": [
    {
     "name": "stdout",
     "output_type": "stream",
     "text": [
      "Classification Report for Count Vectorization (Validation Set):\n",
      "                             precision    recall  f1-score   support\n",
      "\n",
      " Cardiovascular / Pulmonary       0.62      0.58      0.60       204\n",
      " Consult - History and Phy.       0.65      0.60      0.63       208\n",
      "           General Medicine       0.70      0.81      0.75       218\n",
      "                 Orthopedic       0.64      0.71      0.68       203\n",
      "                  Radiology       0.75      0.76      0.75       223\n",
      "                    Surgery       0.74      0.65      0.69       250\n",
      "\n",
      "                   accuracy                           0.69      1306\n",
      "                  macro avg       0.68      0.69      0.68      1306\n",
      "               weighted avg       0.69      0.69      0.69      1306\n",
      "\n",
      "Classification Report for Count Vectorization (Test Set):\n",
      "                             precision    recall  f1-score   support\n",
      "\n",
      " Cardiovascular / Pulmonary       0.67      0.67      0.67       235\n",
      " Consult - History and Phy.       0.67      0.65      0.66       222\n",
      "           General Medicine       0.77      0.77      0.77       216\n",
      "                 Orthopedic       0.66      0.70      0.68       212\n",
      "                  Radiology       0.71      0.74      0.73       203\n",
      "                    Surgery       0.70      0.65      0.67       218\n",
      "\n",
      "                   accuracy                           0.70      1306\n",
      "                  macro avg       0.70      0.70      0.70      1306\n",
      "               weighted avg       0.70      0.70      0.70      1306\n",
      "\n",
      "Classification Report for N-grams (Validation Set):\n",
      "                             precision    recall  f1-score   support\n",
      "\n",
      " Cardiovascular / Pulmonary       0.62      0.58      0.60       204\n",
      " Consult - History and Phy.       0.65      0.60      0.63       208\n",
      "           General Medicine       0.70      0.81      0.75       218\n",
      "                 Orthopedic       0.64      0.71      0.68       203\n",
      "                  Radiology       0.75      0.76      0.75       223\n",
      "                    Surgery       0.74      0.65      0.69       250\n",
      "\n",
      "                   accuracy                           0.69      1306\n",
      "                  macro avg       0.68      0.69      0.68      1306\n",
      "               weighted avg       0.69      0.69      0.69      1306\n",
      "\n",
      "Classification Report for N-grams (Test Set):\n",
      "                             precision    recall  f1-score   support\n",
      "\n",
      " Cardiovascular / Pulmonary       0.67      0.67      0.67       235\n",
      " Consult - History and Phy.       0.67      0.65      0.66       222\n",
      "           General Medicine       0.77      0.77      0.77       216\n",
      "                 Orthopedic       0.66      0.70      0.68       212\n",
      "                  Radiology       0.71      0.74      0.73       203\n",
      "                    Surgery       0.70      0.65      0.67       218\n",
      "\n",
      "                   accuracy                           0.70      1306\n",
      "                  macro avg       0.70      0.70      0.70      1306\n",
      "               weighted avg       0.70      0.70      0.70      1306\n",
      "\n",
      "Classification Report for TF-IDF (Validation Set):\n",
      "                             precision    recall  f1-score   support\n",
      "\n",
      " Cardiovascular / Pulmonary       0.60      0.59      0.60       204\n",
      " Consult - History and Phy.       0.62      0.54      0.58       208\n",
      "           General Medicine       0.67      0.83      0.74       218\n",
      "                 Orthopedic       0.65      0.76      0.70       203\n",
      "                  Radiology       0.73      0.77      0.75       223\n",
      "                    Surgery       0.85      0.61      0.71       250\n",
      "\n",
      "                   accuracy                           0.69      1306\n",
      "                  macro avg       0.69      0.69      0.68      1306\n",
      "               weighted avg       0.69      0.69      0.68      1306\n",
      "\n",
      "Classification Report for TF-IDF (Test Set):\n",
      "                             precision    recall  f1-score   support\n",
      "\n",
      " Cardiovascular / Pulmonary       0.66      0.71      0.68       235\n",
      " Consult - History and Phy.       0.62      0.56      0.59       222\n",
      "           General Medicine       0.71      0.76      0.73       216\n",
      "                 Orthopedic       0.66      0.77      0.71       212\n",
      "                  Radiology       0.70      0.73      0.71       203\n",
      "                    Surgery       0.84      0.61      0.71       218\n",
      "\n",
      "                   accuracy                           0.69      1306\n",
      "                  macro avg       0.70      0.69      0.69      1306\n",
      "               weighted avg       0.70      0.69      0.69      1306\n",
      "\n"
     ]
    }
   ],
   "source": [
    "# Function to fit and evaluate logistic regression\n",
    "def train_and_evaluate_lr(X_train, y_train, X_val, y_val, X_test, y_test, text_representation):\n",
    "    # Initialize logistic regression model\n",
    "    model = LogisticRegression(class_weight='balanced', random_state=42, max_iter=1000, n_jobs=-1)\n",
    "    # Train the model\n",
    "    model.fit(X_train, y_train)\n",
    "    # Predictions on validation set\n",
    "    y_val_pred = model.predict(X_val)\n",
    "    # Print classification report for validation set\n",
    "    print(f\"Classification Report for {text_representation} (Validation Set):\")\n",
    "    print(classification_report(y_val, y_val_pred))\n",
    "\n",
    "    # Predictions on test set\n",
    "    y_test_pred = model.predict(X_test)\n",
    "\n",
    "    # Print classification report for test set\n",
    "    print(f\"Classification Report for {text_representation} (Test Set):\")\n",
    "    print(classification_report(y_test, y_test_pred))\n",
    "\n",
    "# Example usage\n",
    "train_and_evaluate_lr(X_count_train, y_train, X_count_val, y_val, X_count_test, y_test, \"Count Vectorization\")\n",
    "train_and_evaluate_lr(X_grams_train, y_train, X_grams_val, y_val, X_grams_test, y_test, \"N-grams\")\n",
    "train_and_evaluate_lr(X_tfidf_train, y_train, X_tfidf_val, y_val, X_tfidf_test, y_test, \"TF-IDF\")\n"
   ]
  },
  {
   "cell_type": "markdown",
   "metadata": {
    "id": "1l55mCmk5LIu"
   },
   "source": [
    ">**4. Random Forest**"
   ]
  },
  {
   "cell_type": "code",
   "execution_count": null,
   "metadata": {},
   "outputs": [
    {
     "name": "stdout",
     "output_type": "stream",
     "text": [
      "Classification Report for Count Vectorization - Random Forest (Validation Set):\n",
      "                             precision    recall  f1-score   support\n",
      "\n",
      " Cardiovascular / Pulmonary       0.70      0.72      0.71       226\n",
      " Consult - History and Phy.       0.79      0.83      0.81       222\n",
      "                 Orthopedic       0.72      0.73      0.72       197\n",
      "                    Surgery       0.62      0.57      0.60       225\n",
      "\n",
      "                   accuracy                           0.71       870\n",
      "                  macro avg       0.71      0.71      0.71       870\n",
      "               weighted avg       0.71      0.71      0.71       870\n",
      "\n",
      "Classification Report for Count Vectorization - Random Forest (Test Set):\n",
      "                             precision    recall  f1-score   support\n",
      "\n",
      " Cardiovascular / Pulmonary       0.71      0.72      0.71       215\n",
      " Consult - History and Phy.       0.82      0.84      0.83       222\n",
      "                 Orthopedic       0.68      0.69      0.69       212\n",
      "                    Surgery       0.58      0.56      0.57       222\n",
      "\n",
      "                   accuracy                           0.70       871\n",
      "                  macro avg       0.70      0.70      0.70       871\n",
      "               weighted avg       0.70      0.70      0.70       871\n",
      "\n",
      "Classification Report for TF-IDF - Random Forest (Validation Set):\n",
      "                             precision    recall  f1-score   support\n",
      "\n",
      " Cardiovascular / Pulmonary       0.74      0.69      0.72       226\n",
      " Consult - History and Phy.       0.79      0.88      0.83       222\n",
      "                 Orthopedic       0.72      0.74      0.73       197\n",
      "                    Surgery       0.66      0.62      0.64       225\n",
      "\n",
      "                   accuracy                           0.73       870\n",
      "                  macro avg       0.73      0.73      0.73       870\n",
      "               weighted avg       0.73      0.73      0.73       870\n",
      "\n",
      "Classification Report for TF-IDF - Random Forest (Test Set):\n",
      "                             precision    recall  f1-score   support\n",
      "\n",
      " Cardiovascular / Pulmonary       0.74      0.71      0.72       215\n",
      " Consult - History and Phy.       0.82      0.86      0.84       222\n",
      "                 Orthopedic       0.68      0.70      0.69       212\n",
      "                    Surgery       0.59      0.56      0.57       222\n",
      "\n",
      "                   accuracy                           0.71       871\n",
      "                  macro avg       0.71      0.71      0.71       871\n",
      "               weighted avg       0.71      0.71      0.71       871\n",
      "\n"
     ]
    }
   ],
   "source": [
    "# Train and evaluate Random Forest with CountVectorizer\n",
    "def train_and_evaluate_random_forest(X_train, y_train, X_val, y_val, X_test, y_test, text_representation):\n",
    "    # Initialize Random Forest model\n",
    "    model = RandomForestClassifier(n_estimators=100, random_state=42,n_jobs=-1)\n",
    "\n",
    "    # Train the model\n",
    "    model.fit(X_train, y_train)\n",
    "\n",
    "    # Predictions on validation set\n",
    "    y_val_pred = model.predict(X_val)\n",
    "\n",
    "    # Print classification report for validation set\n",
    "    print(f\"Classification Report for {text_representation} (Validation Set):\")\n",
    "    print(classification_report(y_val, y_val_pred))\n",
    "\n",
    "    # Predictions on test set\n",
    "    y_test_pred = model.predict(X_test)\n",
    "\n",
    "    # Print classification report for test set\n",
    "    print(f\"Classification Report for {text_representation} (Test Set):\")\n",
    "    print(classification_report(y_test, y_test_pred))\n",
    "\n",
    "# Example usage for Random Forest with different feature representations\n",
    "train_and_evaluate_random_forest(X_count_train, y_train, X_count_val, y_val, X_count_test, y_test, \"Count Vectorization - Random Forest\")\n",
    "train_and_evaluate_random_forest(X_tfidf_train, y_train, X_tfidf_val, y_val, X_tfidf_test, y_test, \"TF-IDF - Random Forest\")\n",
    "train_and_evaluate_random_forest(X_uni_bigrams_train, y_train, X_uni_bigrams_val, y_val, X_uni_bigrams_test, y_test, \"Uni-Bigrams - Random Forest\")\n",
    "train_and_evaluate_random_forest(X_bigrams_train, y_train, X_bigrams_val, y_val, X_bigrams_test, y_test, \"Bigrams - Random Forest\")\n",
    "train_and_evaluate_random_forest(X_bi_trigrams_train, y_train, X_bi_trigrams_val, y_val, X_bi_trigrams_test, y_test, \"Bi-Trigrams - Random Forest\")\n",
    "train_and_evaluate_random_forest(X_trigrams_train, y_train, X_trigrams_val, y_val, X_trigrams_test, y_test, \"Trigrams - Random Forest\")"
   ]
  },
  {
   "cell_type": "code",
   "execution_count": 42,
   "metadata": {
    "colab": {
     "base_uri": "https://localhost:8080/"
    },
    "executionInfo": {
     "elapsed": 411706,
     "status": "ok",
     "timestamp": 1702215635684,
     "user": {
      "displayName": "Liew Man Ting",
      "userId": "07590673243961657612"
     },
     "user_tz": -480
    },
    "id": "6Eo945GU1zIH",
    "outputId": "2060c986-e64b-482d-fa9a-0bfd09b50533",
    "scrolled": false
   },
   "outputs": [
    {
     "name": "stdout",
     "output_type": "stream",
     "text": [
      "Classification Report for Count Vectorization (Validation Set):\n",
      "                             precision    recall  f1-score   support\n",
      "\n",
      " Cardiovascular / Pulmonary       0.57      0.52      0.54       204\n",
      " Consult - History and Phy.       0.57      0.53      0.55       208\n",
      "           General Medicine       0.66      0.78      0.72       218\n",
      "                 Orthopedic       0.58      0.64      0.61       203\n",
      "                  Radiology       0.70      0.71      0.71       223\n",
      "                    Surgery       0.71      0.60      0.65       250\n",
      "\n",
      "                   accuracy                           0.63      1306\n",
      "                  macro avg       0.63      0.63      0.63      1306\n",
      "               weighted avg       0.64      0.63      0.63      1306\n",
      "\n",
      "Classification Report for Count Vectorization (Test Set):\n",
      "                             precision    recall  f1-score   support\n",
      "\n",
      " Cardiovascular / Pulmonary       0.63      0.62      0.63       235\n",
      " Consult - History and Phy.       0.61      0.60      0.61       222\n",
      "           General Medicine       0.74      0.78      0.76       216\n",
      "                 Orthopedic       0.62      0.65      0.63       212\n",
      "                  Radiology       0.70      0.71      0.70       203\n",
      "                    Surgery       0.67      0.62      0.64       218\n",
      "\n",
      "                   accuracy                           0.66      1306\n",
      "                  macro avg       0.66      0.66      0.66      1306\n",
      "               weighted avg       0.66      0.66      0.66      1306\n",
      "\n",
      "Classification Report for N-grams (Validation Set):\n",
      "                             precision    recall  f1-score   support\n",
      "\n",
      " Cardiovascular / Pulmonary       0.57      0.52      0.54       204\n",
      " Consult - History and Phy.       0.57      0.53      0.55       208\n",
      "           General Medicine       0.66      0.78      0.72       218\n",
      "                 Orthopedic       0.58      0.64      0.61       203\n",
      "                  Radiology       0.70      0.71      0.71       223\n",
      "                    Surgery       0.71      0.60      0.65       250\n",
      "\n",
      "                   accuracy                           0.63      1306\n",
      "                  macro avg       0.63      0.63      0.63      1306\n",
      "               weighted avg       0.64      0.63      0.63      1306\n",
      "\n",
      "Classification Report for N-grams (Test Set):\n",
      "                             precision    recall  f1-score   support\n",
      "\n",
      " Cardiovascular / Pulmonary       0.63      0.62      0.63       235\n",
      " Consult - History and Phy.       0.61      0.60      0.61       222\n",
      "           General Medicine       0.74      0.78      0.76       216\n",
      "                 Orthopedic       0.62      0.65      0.63       212\n",
      "                  Radiology       0.70      0.71      0.70       203\n",
      "                    Surgery       0.67      0.62      0.64       218\n",
      "\n",
      "                   accuracy                           0.66      1306\n",
      "                  macro avg       0.66      0.66      0.66      1306\n",
      "               weighted avg       0.66      0.66      0.66      1306\n",
      "\n",
      "Classification Report for TF-IDF (Validation Set):\n",
      "                             precision    recall  f1-score   support\n",
      "\n",
      " Cardiovascular / Pulmonary       0.56      0.51      0.53       204\n",
      " Consult - History and Phy.       0.57      0.52      0.55       208\n",
      "           General Medicine       0.65      0.80      0.71       218\n",
      "                 Orthopedic       0.57      0.64      0.60       203\n",
      "                  Radiology       0.70      0.72      0.71       223\n",
      "                    Surgery       0.70      0.59      0.64       250\n",
      "\n",
      "                   accuracy                           0.63      1306\n",
      "                  macro avg       0.63      0.63      0.62      1306\n",
      "               weighted avg       0.63      0.63      0.63      1306\n",
      "\n",
      "Classification Report for TF-IDF (Test Set):\n",
      "                             precision    recall  f1-score   support\n",
      "\n",
      " Cardiovascular / Pulmonary       0.63      0.63      0.63       235\n",
      " Consult - History and Phy.       0.62      0.59      0.60       222\n",
      "           General Medicine       0.73      0.78      0.75       216\n",
      "                 Orthopedic       0.61      0.63      0.62       212\n",
      "                  Radiology       0.70      0.70      0.70       203\n",
      "                    Surgery       0.67      0.62      0.64       218\n",
      "\n",
      "                   accuracy                           0.66      1306\n",
      "                  macro avg       0.66      0.66      0.66      1306\n",
      "               weighted avg       0.66      0.66      0.66      1306\n",
      "\n"
     ]
    }
   ],
   "source": [
    "def train_and_evaluate_rf(X_train, y_train, X_val, y_val, X_test, y_test, text_representation):\n",
    "    # Initialize Random Forest model with n_jobs=-1\n",
    "    model = RandomForestClassifier(n_estimators=100, random_state=42, n_jobs=-1)  # You can adjust the number of estimators\n",
    "\n",
    "    # Train the model\n",
    "    model.fit(X_train, y_train)\n",
    "\n",
    "    # Predictions on validation set\n",
    "    y_val_pred = model.predict(X_val)\n",
    "\n",
    "    # Print classification report for validation set\n",
    "    print(f\"Classification Report for {text_representation} (Validation Set):\")\n",
    "    print(classification_report(y_val, y_val_pred))\n",
    "\n",
    "    # Predictions on test set\n",
    "    y_test_pred = model.predict(X_test)\n",
    "\n",
    "    # Print classification report for test set\n",
    "    print(f\"Classification Report for {text_representation} (Test Set):\")\n",
    "    print(classification_report(y_test, y_test_pred))\n",
    "\n",
    "# Example usage for Random Forest with n_jobs=-1\n",
    "train_and_evaluate_rf(X_count_train, y_train, X_count_val, y_val, X_count_test, y_test, \"Count Vectorization\")\n",
    "train_and_evaluate_rf(X_grams_train, y_train, X_grams_val, y_val, X_grams_test, y_test, \"N-grams\")\n",
    "train_and_evaluate_rf(X_tfidf_train, y_train, X_tfidf_val, y_val, X_tfidf_test, y_test, \"TF-IDF\")"
   ]
  },
  {
   "cell_type": "markdown",
   "metadata": {},
   "source": [
    ">**5. Decision Tree**"
   ]
  },
  {
   "cell_type": "code",
   "execution_count": null,
   "metadata": {},
   "outputs": [],
   "source": [
    "# Train and evaluate Decision Tree with CountVectorizer\n",
    "def train_and_evaluate_decision_tree(X_train, y_train, X_val, y_val, X_test, y_test, text_representation):\n",
    "    # Initialize Decision Tree model\n",
    "    model = DecisionTreeClassifier(random_state=42)\n",
    "\n",
    "    # Train the model\n",
    "    model.fit(X_train, y_train)\n",
    "\n",
    "    # Predictions on validation set\n",
    "    y_val_pred = model.predict(X_val)\n",
    "\n",
    "    # Print classification report for validation set\n",
    "    print(f\"Classification Report for {text_representation} (Validation Set):\")\n",
    "    print(classification_report(y_val, y_val_pred))\n",
    "\n",
    "    # Predictions on test set\n",
    "    y_test_pred = model.predict(X_test)\n",
    "\n",
    "    # Print classification report for test set\n",
    "    print(f\"Classification Report for {text_representation} (Test Set):\")\n",
    "    print(classification_report(y_test, y_test_pred))\n",
    "\n",
    "# Example usage for Decision Tree with different feature representations\n",
    "train_and_evaluate_decision_tree(X_count_train, y_train, X_count_val, y_val, X_count_test, y_test, \"Count Vectorization - Decision Tree\")\n",
    "train_and_evaluate_decision_tree(X_tfidf_train, y_train, X_tfidf_val, y_val, X_tfidf_test, y_test, \"TF-IDF - Decision Tree\")\n",
    "train_and_evaluate_decision_tree(X_uni_bigrams_train, y_train, X_uni_bigrams_val, y_val, X_uni_bigrams_test, y_test, \"Uni-Bigrams - Decision Tree\")\n",
    "train_and_evaluate_decision_tree(X_bigrams_train, y_train, X_bigrams_val, y_val, X_bigrams_test, y_test, \"Bigrams - Decision Tree\")\n",
    "train_and_evaluate_decision_tree(X_bi_trigrams_train, y_train, X_bi_trigrams_val, y_val, X_bi_trigrams_test, y_test, \"Bi-Trigrams - Decision Tree\")\n",
    "train_and_evaluate_decision_tree(X_trigrams_train, y_train, X_trigrams_val, y_val, X_trigrams_test, y_test, \"Trigrams - Decision Tree\")"
   ]
  },
  {
   "cell_type": "code",
   "execution_count": 49,
   "metadata": {},
   "outputs": [
    {
     "name": "stdout",
     "output_type": "stream",
     "text": [
      "Classification Report for Count Vectorization (Validation Set):\n",
      "                             precision    recall  f1-score   support\n",
      "\n",
      " Cardiovascular / Pulmonary       0.47      0.52      0.50       204\n",
      " Consult - History and Phy.       0.46      0.44      0.45       208\n",
      "           General Medicine       0.59      0.65      0.62       218\n",
      "                 Orthopedic       0.54      0.62      0.58       203\n",
      "                  Radiology       0.68      0.59      0.63       223\n",
      "                    Surgery       0.70      0.60      0.65       250\n",
      "\n",
      "                   accuracy                           0.57      1306\n",
      "                  macro avg       0.57      0.57      0.57      1306\n",
      "               weighted avg       0.58      0.57      0.57      1306\n",
      "\n",
      "Classification Report for Count Vectorization (Test Set):\n",
      "                             precision    recall  f1-score   support\n",
      "\n",
      " Cardiovascular / Pulmonary       0.52      0.61      0.56       235\n",
      " Consult - History and Phy.       0.49      0.50      0.49       222\n",
      "           General Medicine       0.65      0.61      0.63       216\n",
      "                 Orthopedic       0.58      0.62      0.60       212\n",
      "                  Radiology       0.64      0.56      0.59       203\n",
      "                    Surgery       0.62      0.57      0.59       218\n",
      "\n",
      "                   accuracy                           0.58      1306\n",
      "                  macro avg       0.58      0.58      0.58      1306\n",
      "               weighted avg       0.58      0.58      0.58      1306\n",
      "\n",
      "Classification Report for N-grams (Validation Set):\n",
      "                             precision    recall  f1-score   support\n",
      "\n",
      " Cardiovascular / Pulmonary       0.47      0.52      0.50       204\n",
      " Consult - History and Phy.       0.46      0.44      0.45       208\n",
      "           General Medicine       0.59      0.65      0.62       218\n",
      "                 Orthopedic       0.54      0.62      0.58       203\n",
      "                  Radiology       0.68      0.59      0.63       223\n",
      "                    Surgery       0.70      0.60      0.65       250\n",
      "\n",
      "                   accuracy                           0.57      1306\n",
      "                  macro avg       0.57      0.57      0.57      1306\n",
      "               weighted avg       0.58      0.57      0.57      1306\n",
      "\n",
      "Classification Report for N-grams (Test Set):\n",
      "                             precision    recall  f1-score   support\n",
      "\n",
      " Cardiovascular / Pulmonary       0.52      0.61      0.56       235\n",
      " Consult - History and Phy.       0.49      0.50      0.49       222\n",
      "           General Medicine       0.65      0.61      0.63       216\n",
      "                 Orthopedic       0.58      0.62      0.60       212\n",
      "                  Radiology       0.64      0.56      0.59       203\n",
      "                    Surgery       0.62      0.57      0.59       218\n",
      "\n",
      "                   accuracy                           0.58      1306\n",
      "                  macro avg       0.58      0.58      0.58      1306\n",
      "               weighted avg       0.58      0.58      0.58      1306\n",
      "\n",
      "Classification Report for TF-IDF (Validation Set):\n",
      "                             precision    recall  f1-score   support\n",
      "\n",
      " Cardiovascular / Pulmonary       0.48      0.51      0.50       204\n",
      " Consult - History and Phy.       0.42      0.41      0.42       208\n",
      "           General Medicine       0.62      0.67      0.64       218\n",
      "                 Orthopedic       0.51      0.60      0.55       203\n",
      "                  Radiology       0.68      0.59      0.63       223\n",
      "                    Surgery       0.69      0.59      0.64       250\n",
      "\n",
      "                   accuracy                           0.57      1306\n",
      "                  macro avg       0.57      0.56      0.56      1306\n",
      "               weighted avg       0.57      0.57      0.57      1306\n",
      "\n",
      "Classification Report for TF-IDF (Test Set):\n",
      "                             precision    recall  f1-score   support\n",
      "\n",
      " Cardiovascular / Pulmonary       0.53      0.61      0.57       235\n",
      " Consult - History and Phy.       0.49      0.49      0.49       222\n",
      "           General Medicine       0.66      0.61      0.63       216\n",
      "                 Orthopedic       0.57      0.65      0.61       212\n",
      "                  Radiology       0.64      0.55      0.59       203\n",
      "                    Surgery       0.64      0.58      0.61       218\n",
      "\n",
      "                   accuracy                           0.58      1306\n",
      "                  macro avg       0.59      0.58      0.58      1306\n",
      "               weighted avg       0.59      0.58      0.58      1306\n",
      "\n"
     ]
    }
   ],
   "source": [
    "def train_and_evaluate_dt(X_train, y_train, X_val, y_val, X_test, y_test, text_representation):\n",
    "    # Initialize Decision Tree model\n",
    "    model = DecisionTreeClassifier(random_state=42)\n",
    "\n",
    "    # Train the model\n",
    "    model.fit(X_train, y_train)\n",
    "\n",
    "    # Predictions on validation set\n",
    "    y_val_pred = model.predict(X_val)\n",
    "\n",
    "    # Print classification report for validation set\n",
    "    print(f\"Classification Report for {text_representation} (Validation Set):\")\n",
    "    print(classification_report(y_val, y_val_pred))\n",
    "\n",
    "    # Predictions on test set\n",
    "    y_test_pred = model.predict(X_test)\n",
    "\n",
    "    # Print classification report for test set\n",
    "    print(f\"Classification Report for {text_representation} (Test Set):\")\n",
    "    print(classification_report(y_test, y_test_pred))\n",
    "\n",
    "# Example usage for Decision Tree\n",
    "train_and_evaluate_dt(X_count_train, y_train, X_count_val, y_val, X_count_test, y_test, \"Count Vectorization\")\n",
    "train_and_evaluate_dt(X_grams_train, y_train, X_grams_val, y_val, X_grams_test, y_test, \"N-grams\")\n",
    "train_and_evaluate_dt(X_tfidf_train, y_train, X_tfidf_val, y_val, X_tfidf_test, y_test, \"TF-IDF\")"
   ]
  },
  {
   "cell_type": "markdown",
   "metadata": {
    "id": "e3u6OvnC5UAZ"
   },
   "source": [
    "Here is an overview of the result for easy viewing"
   ]
  },
  {
   "cell_type": "markdown",
   "metadata": {
    "id": "Rucr1Opv7YbU"
   },
   "source": [
    "|  | Count Vectorisation | N-grams | TF-IDF |\n",
    "| ---------|----------|----------|---------|\n",
    "| Naives Bayes (VAL) | 0.59 | 0.59 | 0.56 |\n",
    "| Naives Bayes (TEST) | 0.63 | 0.58 | 0.62 |\n",
    "| ---------|----------|----------|---------|\n",
    "| SVM (VAL) | 0.60 | 0.56 | 0.62 |\n",
    "| SVM (TEST) | 0.63 | 0.55 | 0.62 |\n",
    "| ---------|----------|----------|---------|\n",
    "| Logistic Regression (VAL) | 0.60 | 0.60 | 0.63 |\n",
    "| Logistic Regression (TEST)| 0.60 | 0.57 | 0.66 |\n",
    "| ---------|----------|----------|---------|\n",
    "| SXG Boost (VAL) | 0.58 | 0.58 | 0.57 |\n",
    "| SXG Boost (TEST)| 0.59| 0.57 | 0.58 |"
   ]
  },
  {
   "cell_type": "markdown",
   "metadata": {
    "id": "LGl5gjp79NjN"
   },
   "source": [
    "## <font color= grey>Hyper-parameter Tuning"
   ]
  },
  {
   "cell_type": "code",
   "execution_count": null,
   "metadata": {
    "colab": {
     "base_uri": "https://localhost:8080/"
    },
    "id": "n8Kn54RY5-gN",
    "outputId": "470c6614-0e52-497c-ceb9-7b0060559d9f"
   },
   "outputs": [
    {
     "name": "stdout",
     "output_type": "stream",
     "text": [
      "Best Parameters for Count Vectorization:  {'C': 0.01, 'penalty': 'l2', 'solver': 'saga'}\n",
      "Best F1 Score for Count Vectorization:  0.627600865603411\n",
      "\n",
      "Classification Report for Count Vectorization (Validation Set):\n",
      "                             precision    recall  f1-score   support\n",
      "\n",
      " Cardiovascular / Pulmonary       0.72      0.61      0.66        62\n",
      " Consult - History and Phy.       0.50      0.50      0.50        74\n",
      "           General Medicine       0.52      0.54      0.53        54\n",
      "                 Orthopedic       0.66      0.56      0.61        66\n",
      "                  Radiology       0.65      0.78      0.71        60\n",
      "                    Surgery       0.73      0.78      0.76        69\n",
      "\n",
      "                   accuracy                           0.63       385\n",
      "                  macro avg       0.63      0.63      0.63       385\n",
      "               weighted avg       0.63      0.63      0.63       385\n",
      "\n",
      "\n",
      "Classification Report for Count Vectorization (Test Set):\n",
      "                             precision    recall  f1-score   support\n",
      "\n",
      " Cardiovascular / Pulmonary       0.59      0.56      0.58        78\n",
      " Consult - History and Phy.       0.61      0.61      0.61        70\n",
      "           General Medicine       0.51      0.52      0.52        48\n",
      "                 Orthopedic       0.67      0.69      0.68        59\n",
      "                  Radiology       0.64      0.59      0.61        59\n",
      "                    Surgery       0.70      0.75      0.72        72\n",
      "\n",
      "                   accuracy                           0.63       386\n",
      "                  macro avg       0.62      0.62      0.62       386\n",
      "               weighted avg       0.63      0.63      0.63       386\n",
      "\n"
     ]
    }
   ],
   "source": [
    "# Function to perform grid search for logistic regression\n",
    "def grid_search_logistic_regression(X_train, y_train, X_val, y_val, X_test, y_test, text_representation):\n",
    "    # Define the parameter grid\n",
    "    param_grid = {\n",
    "        'C': [0.001, 0.01, 0.1, 1, 10, 100],\n",
    "        'penalty': ['l1', 'l2'],\n",
    "        'solver': ['liblinear', 'saga']\n",
    "    }\n",
    "\n",
    "    # Initialize logistic regression model\n",
    "    model = LogisticRegression(class_weight='balanced', random_state=42, max_iter=1000, n_jobs=-1)\n",
    "\n",
    "    # Create GridSearchCV object\n",
    "    grid_search = GridSearchCV(model, param_grid, cv=5, scoring='f1_macro', n_jobs=-1)\n",
    "\n",
    "    # Perform grid search on the training set\n",
    "    grid_search.fit(X_train, y_train)\n",
    "\n",
    "    # Print best parameters and best score\n",
    "    print(f\"Best Parameters for {text_representation}: \", grid_search.best_params_)\n",
    "    print(f\"Best F1 Score for {text_representation}: \", grid_search.best_score_)\n",
    "\n",
    "    # Predictions on validation set\n",
    "    y_val_pred = grid_search.predict(X_val)\n",
    "\n",
    "    # Print classification report for validation set\n",
    "    print(f\"\\nClassification Report for {text_representation} (Validation Set):\")\n",
    "    print(classification_report(y_val, y_val_pred))\n",
    "\n",
    "    # Predictions on test set\n",
    "    y_test_pred = grid_search.predict(X_test)\n",
    "\n",
    "    # Print classification report for test set\n",
    "    print(f\"\\nClassification Report for {text_representation} (Test Set):\")\n",
    "    print(classification_report(y_test, y_test_pred))\n",
    "\n",
    "# Perform grid search for each vectorized dataset\n",
    "grid_search_logistic_regression(X_count_train, y_train, X_count_val, y_val, X_count_test, y_test, \"Count Vectorization\")\n",
    "grid_search_logistic_regression(X_grams_train, y_train, X_grams_val, y_val, X_grams_test, y_test, \"N-grams\")\n",
    "grid_search_logistic_regression(X_tfidf_train, y_train, X_tfidf_val, y_val, X_tfidf_test, y_test, \"TF-IDF\")"
   ]
  },
  {
   "cell_type": "code",
   "execution_count": null,
   "metadata": {
    "id": "aE4CCpxr7XE2"
   },
   "outputs": [],
   "source": []
  }
 ],
 "metadata": {
  "accelerator": "GPU",
  "colab": {
   "gpuType": "T4",
   "provenance": []
  },
  "kernelspec": {
   "display_name": "Python 3 (ipykernel)",
   "language": "python",
   "name": "python3"
  },
  "language_info": {
   "codemirror_mode": {
    "name": "ipython",
    "version": 3
   },
   "file_extension": ".py",
   "mimetype": "text/x-python",
   "name": "python",
   "nbconvert_exporter": "python",
   "pygments_lexer": "ipython3",
   "version": "3.10.13"
  }
 },
 "nbformat": 4,
 "nbformat_minor": 1
}
